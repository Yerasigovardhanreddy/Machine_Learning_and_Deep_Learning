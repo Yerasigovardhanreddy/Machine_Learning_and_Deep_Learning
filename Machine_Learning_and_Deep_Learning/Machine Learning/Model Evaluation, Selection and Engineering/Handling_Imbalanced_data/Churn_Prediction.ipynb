{
 "cells": [
  {
   "cell_type": "markdown",
   "id": "84f5053f-2c02-44f6-87e6-533ed20d0983",
   "metadata": {},
   "source": [
    "### **Problem with ImbalanceDatasets** :\n",
    "- Imbalanced datasets occur when classes are not represented equally, with one class significantly outnumbering others. \n",
    "- This imbalance can lead models to become biased, predicting the `majority class more often and neglecting the minority class`.\n",
    "- Techniques like resampling (e.g., `SMOTE`) to improve model performance and fairness."
   ]
  },
  {
   "cell_type": "markdown",
   "id": "5bdc7736-dfbd-4b22-b840-1f10932f3fbc",
   "metadata": {},
   "source": [
    "## **Import Required Libraries**"
   ]
  },
  {
   "cell_type": "code",
   "execution_count": 1,
   "id": "6cdf50c7-0980-462b-930b-71c3bba34228",
   "metadata": {
    "scrolled": true
   },
   "outputs": [],
   "source": [
    "import pandas as pd\n",
    "import numpy as np\n",
    "\n",
    "import matplotlib.pyplot as plt \n",
    "import seaborn as sns"
   ]
  },
  {
   "cell_type": "markdown",
   "id": "e6c2f7b5-98af-44bb-85d7-3fecf373bc4d",
   "metadata": {},
   "source": [
    "## **Loading the Dataset**"
   ]
  },
  {
   "cell_type": "code",
   "execution_count": 413,
   "id": "97ff6245-ca00-4466-8d39-8a4047d7b020",
   "metadata": {},
   "outputs": [
    {
     "data": {
      "text/html": [
       "<div>\n",
       "<style scoped>\n",
       "    .dataframe tbody tr th:only-of-type {\n",
       "        vertical-align: middle;\n",
       "    }\n",
       "\n",
       "    .dataframe tbody tr th {\n",
       "        vertical-align: top;\n",
       "    }\n",
       "\n",
       "    .dataframe thead th {\n",
       "        text-align: right;\n",
       "    }\n",
       "</style>\n",
       "<table border=\"1\" class=\"dataframe\">\n",
       "  <thead>\n",
       "    <tr style=\"text-align: right;\">\n",
       "      <th></th>\n",
       "      <th>customerID</th>\n",
       "      <th>gender</th>\n",
       "      <th>SeniorCitizen</th>\n",
       "      <th>Partner</th>\n",
       "      <th>Dependents</th>\n",
       "      <th>tenure</th>\n",
       "      <th>PhoneService</th>\n",
       "      <th>MultipleLines</th>\n",
       "      <th>InternetService</th>\n",
       "      <th>OnlineSecurity</th>\n",
       "      <th>...</th>\n",
       "      <th>DeviceProtection</th>\n",
       "      <th>TechSupport</th>\n",
       "      <th>StreamingTV</th>\n",
       "      <th>StreamingMovies</th>\n",
       "      <th>Contract</th>\n",
       "      <th>PaperlessBilling</th>\n",
       "      <th>PaymentMethod</th>\n",
       "      <th>MonthlyCharges</th>\n",
       "      <th>TotalCharges</th>\n",
       "      <th>Churn</th>\n",
       "    </tr>\n",
       "  </thead>\n",
       "  <tbody>\n",
       "    <tr>\n",
       "      <th>0</th>\n",
       "      <td>7590-VHVEG</td>\n",
       "      <td>Female</td>\n",
       "      <td>0</td>\n",
       "      <td>Yes</td>\n",
       "      <td>No</td>\n",
       "      <td>1</td>\n",
       "      <td>No</td>\n",
       "      <td>No phone service</td>\n",
       "      <td>DSL</td>\n",
       "      <td>No</td>\n",
       "      <td>...</td>\n",
       "      <td>No</td>\n",
       "      <td>No</td>\n",
       "      <td>No</td>\n",
       "      <td>No</td>\n",
       "      <td>Month-to-month</td>\n",
       "      <td>Yes</td>\n",
       "      <td>Electronic check</td>\n",
       "      <td>29.85</td>\n",
       "      <td>29.85</td>\n",
       "      <td>No</td>\n",
       "    </tr>\n",
       "    <tr>\n",
       "      <th>1</th>\n",
       "      <td>5575-GNVDE</td>\n",
       "      <td>Male</td>\n",
       "      <td>0</td>\n",
       "      <td>No</td>\n",
       "      <td>No</td>\n",
       "      <td>34</td>\n",
       "      <td>Yes</td>\n",
       "      <td>No</td>\n",
       "      <td>DSL</td>\n",
       "      <td>Yes</td>\n",
       "      <td>...</td>\n",
       "      <td>Yes</td>\n",
       "      <td>No</td>\n",
       "      <td>No</td>\n",
       "      <td>No</td>\n",
       "      <td>One year</td>\n",
       "      <td>No</td>\n",
       "      <td>Mailed check</td>\n",
       "      <td>56.95</td>\n",
       "      <td>1889.5</td>\n",
       "      <td>No</td>\n",
       "    </tr>\n",
       "    <tr>\n",
       "      <th>2</th>\n",
       "      <td>3668-QPYBK</td>\n",
       "      <td>Male</td>\n",
       "      <td>0</td>\n",
       "      <td>No</td>\n",
       "      <td>No</td>\n",
       "      <td>2</td>\n",
       "      <td>Yes</td>\n",
       "      <td>No</td>\n",
       "      <td>DSL</td>\n",
       "      <td>Yes</td>\n",
       "      <td>...</td>\n",
       "      <td>No</td>\n",
       "      <td>No</td>\n",
       "      <td>No</td>\n",
       "      <td>No</td>\n",
       "      <td>Month-to-month</td>\n",
       "      <td>Yes</td>\n",
       "      <td>Mailed check</td>\n",
       "      <td>53.85</td>\n",
       "      <td>108.15</td>\n",
       "      <td>Yes</td>\n",
       "    </tr>\n",
       "    <tr>\n",
       "      <th>3</th>\n",
       "      <td>7795-CFOCW</td>\n",
       "      <td>Male</td>\n",
       "      <td>0</td>\n",
       "      <td>No</td>\n",
       "      <td>No</td>\n",
       "      <td>45</td>\n",
       "      <td>No</td>\n",
       "      <td>No phone service</td>\n",
       "      <td>DSL</td>\n",
       "      <td>Yes</td>\n",
       "      <td>...</td>\n",
       "      <td>Yes</td>\n",
       "      <td>Yes</td>\n",
       "      <td>No</td>\n",
       "      <td>No</td>\n",
       "      <td>One year</td>\n",
       "      <td>No</td>\n",
       "      <td>Bank transfer (automatic)</td>\n",
       "      <td>42.30</td>\n",
       "      <td>1840.75</td>\n",
       "      <td>No</td>\n",
       "    </tr>\n",
       "    <tr>\n",
       "      <th>4</th>\n",
       "      <td>9237-HQITU</td>\n",
       "      <td>Female</td>\n",
       "      <td>0</td>\n",
       "      <td>No</td>\n",
       "      <td>No</td>\n",
       "      <td>2</td>\n",
       "      <td>Yes</td>\n",
       "      <td>No</td>\n",
       "      <td>Fiber optic</td>\n",
       "      <td>No</td>\n",
       "      <td>...</td>\n",
       "      <td>No</td>\n",
       "      <td>No</td>\n",
       "      <td>No</td>\n",
       "      <td>No</td>\n",
       "      <td>Month-to-month</td>\n",
       "      <td>Yes</td>\n",
       "      <td>Electronic check</td>\n",
       "      <td>70.70</td>\n",
       "      <td>151.65</td>\n",
       "      <td>Yes</td>\n",
       "    </tr>\n",
       "  </tbody>\n",
       "</table>\n",
       "<p>5 rows × 21 columns</p>\n",
       "</div>"
      ],
      "text/plain": [
       "   customerID  gender  SeniorCitizen Partner Dependents  tenure PhoneService  \\\n",
       "0  7590-VHVEG  Female              0     Yes         No       1           No   \n",
       "1  5575-GNVDE    Male              0      No         No      34          Yes   \n",
       "2  3668-QPYBK    Male              0      No         No       2          Yes   \n",
       "3  7795-CFOCW    Male              0      No         No      45           No   \n",
       "4  9237-HQITU  Female              0      No         No       2          Yes   \n",
       "\n",
       "      MultipleLines InternetService OnlineSecurity  ... DeviceProtection  \\\n",
       "0  No phone service             DSL             No  ...               No   \n",
       "1                No             DSL            Yes  ...              Yes   \n",
       "2                No             DSL            Yes  ...               No   \n",
       "3  No phone service             DSL            Yes  ...              Yes   \n",
       "4                No     Fiber optic             No  ...               No   \n",
       "\n",
       "  TechSupport StreamingTV StreamingMovies        Contract PaperlessBilling  \\\n",
       "0          No          No              No  Month-to-month              Yes   \n",
       "1          No          No              No        One year               No   \n",
       "2          No          No              No  Month-to-month              Yes   \n",
       "3         Yes          No              No        One year               No   \n",
       "4          No          No              No  Month-to-month              Yes   \n",
       "\n",
       "               PaymentMethod MonthlyCharges  TotalCharges Churn  \n",
       "0           Electronic check          29.85         29.85    No  \n",
       "1               Mailed check          56.95        1889.5    No  \n",
       "2               Mailed check          53.85        108.15   Yes  \n",
       "3  Bank transfer (automatic)          42.30       1840.75    No  \n",
       "4           Electronic check          70.70        151.65   Yes  \n",
       "\n",
       "[5 rows x 21 columns]"
      ]
     },
     "execution_count": 413,
     "metadata": {},
     "output_type": "execute_result"
    }
   ],
   "source": [
    "df = pd.read_csv('data/customer_churn.csv')\n",
    "\n",
    "df.head() "
   ]
  },
  {
   "cell_type": "markdown",
   "id": "8e1ef194-a913-429b-9324-ee4a9c3226a4",
   "metadata": {},
   "source": [
    "### Exploratory Data Analysis - (Note: Only on Target Column)"
   ]
  },
  {
   "cell_type": "code",
   "execution_count": 7,
   "id": "0ef32f92-00e1-4447-a882-ca803c32afe7",
   "metadata": {},
   "outputs": [
    {
     "data": {
      "text/plain": [
       "(7043, 21)"
      ]
     },
     "execution_count": 7,
     "metadata": {},
     "output_type": "execute_result"
    }
   ],
   "source": [
    "df.shape"
   ]
  },
  {
   "cell_type": "code",
   "execution_count": 415,
   "id": "7ad07e94-113a-4c8a-b6eb-2c96cb97d357",
   "metadata": {},
   "outputs": [],
   "source": [
    "df['TotalCharges'] = df['TotalCharges'].apply(lambda x: 0 if x == ' ' else float(x))"
   ]
  },
  {
   "cell_type": "code",
   "execution_count": 417,
   "id": "c6e740ca-9317-4bf0-9270-c669277bddc3",
   "metadata": {},
   "outputs": [
    {
     "name": "stdout",
     "output_type": "stream",
     "text": [
      "float64\n"
     ]
    }
   ],
   "source": [
    "print(df['TotalCharges'].dtype)"
   ]
  },
  {
   "cell_type": "code",
   "execution_count": 74,
   "id": "70682454-cff8-4b29-ae87-63c5b41dd347",
   "metadata": {},
   "outputs": [
    {
     "data": {
      "text/plain": [
       "Churn\n",
       "No     0.73463\n",
       "Yes    0.26537\n",
       "Name: proportion, dtype: float64"
      ]
     },
     "execution_count": 74,
     "metadata": {},
     "output_type": "execute_result"
    }
   ],
   "source": [
    "df['Churn'].value_counts(normalize= True)"
   ]
  },
  {
   "cell_type": "markdown",
   "id": "a4cbd566-70c1-444e-9e28-bc8e96bdfc63",
   "metadata": {},
   "source": [
    "* Clearly shows that there is `high imbalance` in dataset."
   ]
  },
  {
   "cell_type": "code",
   "execution_count": 77,
   "id": "b10b989e-2750-4c4f-b189-4091c9d0d14d",
   "metadata": {},
   "outputs": [
    {
     "data": {
      "text/plain": [
       "<Axes: xlabel='Churn', ylabel='count'>"
      ]
     },
     "execution_count": 77,
     "metadata": {},
     "output_type": "execute_result"
    },
    {
     "data": {
      "image/png": "[encoded data removed]",
      "text/plain": [
       "<Figure size 640x480 with 1 Axes>"
      ]
     },
     "metadata": {},
     "output_type": "display_data"
    }
   ],
   "source": [
    "sns.countplot(data = df, x = 'Churn')"
   ]
  },
  {
   "cell_type": "code",
   "execution_count": 419,
   "id": "8f8d321d-1756-4f01-afb1-e970ee3acf6b",
   "metadata": {},
   "outputs": [],
   "source": [
    "df = df.drop(columns = ['customerID'])"
   ]
  },
  {
   "cell_type": "code",
   "execution_count": 421,
   "id": "76dfb35b-9285-4059-848c-6d968eb28346",
   "metadata": {},
   "outputs": [],
   "source": [
    "X = df.drop(columns = ['Churn'])\n",
    "y = df[['Churn']]"
   ]
  },
  {
   "cell_type": "code",
   "execution_count": 425,
   "id": "1c050b98-9cc5-492b-b61b-a3de65cae320",
   "metadata": {},
   "outputs": [],
   "source": [
    "numeric_df = X.select_dtypes(include = 'number')\n",
    "categorical_df = X.select_dtypes(exclude='number')"
   ]
  },
  {
   "cell_type": "markdown",
   "id": "e4fa9847-a59b-43e8-85bc-4fe9e20dd6d8",
   "metadata": {},
   "source": [
    "## Data Preparation"
   ]
  },
  {
   "cell_type": "code",
   "execution_count": 427,
   "id": "447f3ab4-1e61-4e0c-8670-6fbd15d6cea1",
   "metadata": {},
   "outputs": [],
   "source": [
    "# Rescaling Numerical Features\n",
    "\n",
    "from sklearn.preprocessing import StandardScaler\n",
    "\n",
    "standard_scaler = StandardScaler()\n",
    "\n",
    "numeric_df_transformed = pd.DataFrame(standard_scaler.fit_transform(numeric_df), \n",
    "                                      columns = standard_scaler.get_feature_names_out(),\n",
    "                                      index = numeric_df.index)"
   ]
  },
  {
   "cell_type": "code",
   "execution_count": 429,
   "id": "6d52a752-80b1-44ce-bea7-ab6556c3507e",
   "metadata": {},
   "outputs": [],
   "source": [
    "from sklearn.preprocessing import OneHotEncoder\n",
    "\n",
    "ohe = OneHotEncoder()\n",
    "\n",
    "categorical_df_transformed = pd.DataFrame(ohe.fit_transform(categorical_df.iloc[:, :-1]).toarray(),\n",
    "                                          columns=ohe.get_feature_names_out(),\n",
    "                                          index = categorical_df.iloc[:, :-1].index)"
   ]
  },
  {
   "cell_type": "code",
   "execution_count": 431,
   "id": "a2867f55-5abe-48e2-9ed9-62c87d18bce7",
   "metadata": {},
   "outputs": [],
   "source": [
    "X = pd.concat([numeric_df_transformed, categorical_df_transformed], axis = 1)"
   ]
  },
  {
   "cell_type": "code",
   "execution_count": 433,
   "id": "2d9b0b5c-cd81-44ca-8840-4a05ee93fe60",
   "metadata": {},
   "outputs": [
    {
     "name": "stderr",
     "output_type": "stream",
     "text": [
      "C:\\Users\\VARSHINA\\AppData\\Local\\Temp\\ipykernel_16796\\1842719179.py:6: SettingWithCopyWarning: \n",
      "A value is trying to be set on a copy of a slice from a DataFrame.\n",
      "Try using .loc[row_indexer,col_indexer] = value instead\n",
      "\n",
      "See the caveats in the documentation: https://pandas.pydata.org/pandas-docs/stable/user_guide/indexing.html#returning-a-view-versus-a-copy\n",
      "  y[column] = le.fit_transform(y[column])\n"
     ]
    }
   ],
   "source": [
    "from sklearn.preprocessing import LabelEncoder\n",
    "\n",
    "le = LabelEncoder()\n",
    "\n",
    "for column in y.columns:\n",
    "    y[column] = le.fit_transform(y[column])"
   ]
  },
  {
   "cell_type": "code",
   "execution_count": 435,
   "id": "5f4a496f-a8fc-4f7a-8b9e-7b8096b5b818",
   "metadata": {},
   "outputs": [],
   "source": [
    "df = pd.concat([X, y], axis = 1)"
   ]
  },
  {
   "cell_type": "code",
   "execution_count": 437,
   "id": "a849f058-d37c-435c-9c30-1ed540e8a057",
   "metadata": {},
   "outputs": [],
   "source": [
    "X = df.drop('Churn',axis='columns')\n",
    "y = df['Churn']\n",
    "\n",
    "from sklearn.model_selection import train_test_split\n",
    "X_train, X_test, y_train, y_test = train_test_split(X, y, test_size=0.2, random_state=42, stratify=y)"
   ]
  },
  {
   "cell_type": "markdown",
   "id": "a0ed89ef-1725-4498-b1c6-4da81f55daad",
   "metadata": {},
   "source": [
    "### Model Building"
   ]
  },
  {
   "cell_type": "code",
   "execution_count": 439,
   "id": "f1c55435-be79-457a-a1f9-ed95c5304bbd",
   "metadata": {},
   "outputs": [
    {
     "name": "stdout",
     "output_type": "stream",
     "text": [
      "              precision    recall  f1-score   support\n",
      "\n",
      "           0       0.88      0.84      0.86      1086\n",
      "           1       0.54      0.63      0.58       323\n",
      "\n",
      "    accuracy                           0.79      1409\n",
      "   macro avg       0.71      0.73      0.72      1409\n",
      "weighted avg       0.80      0.79      0.80      1409\n",
      "\n"
     ]
    }
   ],
   "source": [
    "from sklearn.linear_model import LogisticRegression\n",
    "from sklearn.metrics import classification_report\n",
    "\n",
    "classifier = LogisticRegression()\n",
    "classifier.fit(X_train, y_train)\n",
    "\n",
    "pred = classifier.predict(X_test)\n",
    "\n",
    "print(classification_report(pred, y_test))"
   ]
  },
  {
   "cell_type": "markdown",
   "id": "d2b9c340-fb66-48b1-bc2e-5f8cfcd517bf",
   "metadata": {},
   "source": [
    "* Clearly shows f1score for class1 is low compared to class0."
   ]
  },
  {
   "cell_type": "markdown",
   "id": "812f1dfb-70b0-4eb1-825e-ee149e6a57dc",
   "metadata": {},
   "source": [
    "### Method 1: Undersampling\n"
   ]
  },
  {
   "cell_type": "code",
   "execution_count": 441,
   "id": "8704607e-03a3-45a1-9ee0-83a6594c3ddc",
   "metadata": {},
   "outputs": [],
   "source": [
    "count_class_0, count_class_1 = df.Churn.value_counts()\n",
    "\n",
    "df_class_0 = df[df['Churn'] == 0]\n",
    "df_class_1 = df[df['Churn'] == 1]"
   ]
  },
  {
   "cell_type": "code",
   "execution_count": 443,
   "id": "bbffd9e0-aa0d-4415-a7b6-0b9057f94b94",
   "metadata": {},
   "outputs": [
    {
     "name": "stdout",
     "output_type": "stream",
     "text": [
      "Random under-sampling:\n",
      "Churn\n",
      "0    1869\n",
      "1    1869\n",
      "Name: count, dtype: int64\n"
     ]
    }
   ],
   "source": [
    "df_class_0_under = df_class_0.sample(count_class_1)\n",
    "df_test_under = pd.concat([df_class_0_under, df_class_1], axis=0)\n",
    "\n",
    "print('Random under-sampling:')\n",
    "print(df_test_under.Churn.value_counts())"
   ]
  },
  {
   "cell_type": "code",
   "execution_count": 445,
   "id": "67053d24-35e4-4af2-bd49-fac9d949eccb",
   "metadata": {},
   "outputs": [],
   "source": [
    "X = df_test_under.drop('Churn',axis='columns')\n",
    "y = df_test_under['Churn']\n",
    "\n",
    "from sklearn.model_selection import train_test_split\n",
    "X_train, X_test, y_train, y_test = train_test_split(X, y, test_size=0.2, random_state=42, stratify=y)"
   ]
  },
  {
   "cell_type": "code",
   "execution_count": 447,
   "id": "2d07add8-47a5-4dce-84c2-0e0664e04342",
   "metadata": {},
   "outputs": [
    {
     "data": {
      "text/plain": [
       "Churn\n",
       "0    1495\n",
       "1    1495\n",
       "Name: count, dtype: int64"
      ]
     },
     "execution_count": 447,
     "metadata": {},
     "output_type": "execute_result"
    }
   ],
   "source": [
    "y_train.value_counts()"
   ]
  },
  {
   "cell_type": "markdown",
   "id": "b6a04fdc-ab66-44f6-bd9c-f0b9b4e64cd4",
   "metadata": {},
   "source": [
    "### **Logistic Regression** \n"
   ]
  },
  {
   "cell_type": "code",
   "execution_count": 449,
   "id": "0f7e6f52-55db-4ec1-91ba-cf3bb89e9f8d",
   "metadata": {},
   "outputs": [
    {
     "name": "stdout",
     "output_type": "stream",
     "text": [
      "              precision    recall  f1-score   support\n",
      "\n",
      "           0       0.70      0.74      0.72       352\n",
      "           1       0.76      0.72      0.74       396\n",
      "\n",
      "    accuracy                           0.73       748\n",
      "   macro avg       0.73      0.73      0.73       748\n",
      "weighted avg       0.73      0.73      0.73       748\n",
      "\n"
     ]
    }
   ],
   "source": [
    "from sklearn.linear_model import LogisticRegression\n",
    "from sklearn.metrics import classification_report\n",
    "\n",
    "classifier = LogisticRegression()\n",
    "classifier.fit(X_train, y_train)\n",
    "\n",
    "pred = classifier.predict(X_test)\n",
    "\n",
    "print(classification_report(pred, y_test))"
   ]
  },
  {
   "cell_type": "markdown",
   "id": "86ca5781-549c-4952-8774-4b0d1bb98614",
   "metadata": {},
   "source": [
    "* F1-score for minority class 1 improved from `0.58 to 0.74`. Score for class 0 reduced to `0.72 from 0.86`."
   ]
  },
  {
   "cell_type": "markdown",
   "id": "2e51e827-8816-4b0a-a34c-f2d63ac67328",
   "metadata": {},
   "source": [
    "### Method 2: Oversampling"
   ]
  },
  {
   "cell_type": "code",
   "execution_count": 452,
   "id": "41bee849-5e5b-4086-821f-b3565202f6b5",
   "metadata": {},
   "outputs": [
    {
     "name": "stdout",
     "output_type": "stream",
     "text": [
      "Random over-sampling:\n",
      "Churn\n",
      "0    5174\n",
      "1    5174\n",
      "Name: count, dtype: int64\n"
     ]
    }
   ],
   "source": [
    "df_class_1_over = df_class_1.sample(count_class_0, replace=True)\n",
    "df_test_over = pd.concat([df_class_0, df_class_1_over], axis=0)\n",
    "\n",
    "print('Random over-sampling:')\n",
    "print(df_test_over.Churn.value_counts())"
   ]
  },
  {
   "cell_type": "code",
   "execution_count": 454,
   "id": "b8d14345-007d-44b2-8474-2d8c52a58d1b",
   "metadata": {},
   "outputs": [],
   "source": [
    "X = df_test_over.drop('Churn',axis='columns')\n",
    "y = df_test_over['Churn']\n",
    "\n",
    "from sklearn.model_selection import train_test_split\n",
    "X_train, X_test, y_train, y_test = train_test_split(X, y, test_size=0.2, random_state=42, stratify=y)"
   ]
  },
  {
   "cell_type": "code",
   "execution_count": 459,
   "id": "900e59d1-288d-4c40-9765-6aa9e195748e",
   "metadata": {},
   "outputs": [
    {
     "name": "stdout",
     "output_type": "stream",
     "text": [
      "              precision    recall  f1-score   support\n",
      "\n",
      "           0       0.72      0.77      0.74       971\n",
      "           1       0.78      0.74      0.76      1099\n",
      "\n",
      "    accuracy                           0.75      2070\n",
      "   macro avg       0.75      0.75      0.75      2070\n",
      "weighted avg       0.75      0.75      0.75      2070\n",
      "\n"
     ]
    }
   ],
   "source": [
    "classifier = LogisticRegression()\n",
    "classifier.fit(X_train, y_train)\n",
    "\n",
    "pred = classifier.predict(X_test)\n",
    "\n",
    "print(classification_report(pred, y_test))"
   ]
  },
  {
   "cell_type": "markdown",
   "id": "0eff86da-e12b-42fa-bae2-453fe2d6a04c",
   "metadata": {},
   "source": [
    "* F1-score for minority class 1 improved from `0.58 to 0.76`. Score for class 0 reduced to `0.74 from 0.86`."
   ]
  },
  {
   "cell_type": "markdown",
   "id": "dfe4e8aa-96e8-47d1-b947-b6610537c60b",
   "metadata": {},
   "source": [
    "### Method 3 : SMOTE"
   ]
  },
  {
   "cell_type": "code",
   "execution_count": 497,
   "id": "2115af48-9638-4025-b789-2465aba19161",
   "metadata": {},
   "outputs": [],
   "source": [
    "X = df.drop('Churn',axis='columns')\n",
    "y = df['Churn']"
   ]
  },
  {
   "cell_type": "code",
   "execution_count": 489,
   "id": "563e900f-6d5b-4d51-bbb7-a009e2357645",
   "metadata": {},
   "outputs": [
    {
     "data": {
      "text/plain": [
       "Churn\n",
       "0    5174\n",
       "1    5174\n",
       "Name: count, dtype: int64"
      ]
     },
     "execution_count": 489,
     "metadata": {},
     "output_type": "execute_result"
    }
   ],
   "source": [
    "from imblearn.over_sampling import SMOTE\n",
    "\n",
    "smote = SMOTE(random_state= 42)\n",
    "X_sm, y_sm = smote.fit_resample(X,y)\n",
    "\n",
    "y_sm.value_counts()"
   ]
  },
  {
   "cell_type": "code",
   "execution_count": 493,
   "id": "6d9bd1ae-367a-4280-bf9c-a4373961de14",
   "metadata": {},
   "outputs": [],
   "source": [
    "from sklearn.model_selection import train_test_split\n",
    "X_train, X_test, y_train, y_test = train_test_split(X_sm, y_sm, test_size=0.2, random_state=15, stratify=y_sm)"
   ]
  },
  {
   "cell_type": "code",
   "execution_count": 495,
   "id": "7b4d9811-6b71-4e95-9fff-ded35d1af12b",
   "metadata": {},
   "outputs": [
    {
     "name": "stdout",
     "output_type": "stream",
     "text": [
      "              precision    recall  f1-score   support\n",
      "\n",
      "           0       0.73      0.80      0.76       938\n",
      "           1       0.82      0.75      0.78      1132\n",
      "\n",
      "    accuracy                           0.77      2070\n",
      "   macro avg       0.77      0.78      0.77      2070\n",
      "weighted avg       0.78      0.77      0.77      2070\n",
      "\n"
     ]
    }
   ],
   "source": [
    "classifier = LogisticRegression()\n",
    "classifier.fit(X_train, y_train)\n",
    "\n",
    "pred = classifier.predict(X_test)\n",
    "\n",
    "print(classification_report(pred, y_test))"
   ]
  },
  {
   "cell_type": "markdown",
   "id": "82166bb7-1c0b-48d2-b1bf-239a3fe6b9fa",
   "metadata": {},
   "source": [
    "* F1-score for minority class 1 improved from `0.58 to 0.78`. Score for class 0 reduced to `0.76 from 0.86`."
   ]
  },
  {
   "cell_type": "markdown",
   "id": "10b21734-b5a8-46e5-9510-7a06a6fdbf98",
   "metadata": {},
   "source": [
    "### Method 4: Use of Ensemble with undersampling"
   ]
  },
  {
   "cell_type": "code",
   "execution_count": 523,
   "id": "5dc58b41-2e5b-4e7d-af97-07be0bf38563",
   "metadata": {},
   "outputs": [],
   "source": [
    "X = df.drop('Churn',axis='columns')\n",
    "y = df['Churn']"
   ]
  },
  {
   "cell_type": "code",
   "execution_count": 525,
   "id": "7015c979-398b-4f4c-85a2-f8a7e5f6f01e",
   "metadata": {},
   "outputs": [],
   "source": [
    "from sklearn.model_selection import train_test_split\n",
    "\n",
    "X_train, X_test, y_train, y_test = train_test_split(X, y, test_size=0.2, random_state=15, stratify=y)"
   ]
  },
  {
   "cell_type": "code",
   "execution_count": 527,
   "id": "d604c47d-9a43-4c41-a020-a15d76c24867",
   "metadata": {},
   "outputs": [
    {
     "data": {
      "text/plain": [
       "Churn\n",
       "0    4139\n",
       "1    1495\n",
       "Name: count, dtype: int64"
      ]
     },
     "execution_count": 527,
     "metadata": {},
     "output_type": "execute_result"
    }
   ],
   "source": [
    "y_train.value_counts()"
   ]
  },
  {
   "cell_type": "code",
   "execution_count": 531,
   "id": "1b57efb0-962f-4211-8ca2-af788762a91d",
   "metadata": {},
   "outputs": [],
   "source": [
    "df1 = X_train.copy()\n",
    "df1['Churn'] = y_train"
   ]
  },
  {
   "cell_type": "code",
   "execution_count": 534,
   "id": "fad0d99e-d9db-4caf-837d-88016adcd925",
   "metadata": {},
   "outputs": [],
   "source": [
    "df1_class0 = df1[df1.Churn==0]\n",
    "df1_class1 = df1[df1.Churn==1]"
   ]
  },
  {
   "cell_type": "code",
   "execution_count": 536,
   "id": "34f4030f-ace1-4a37-a07b-8835ecc701d4",
   "metadata": {},
   "outputs": [],
   "source": [
    "def get_train(df_majority, df_minority, start, end):\n",
    "    df_train = pd.concat([df_majority[start:end], df_minority], axis=0)\n",
    "\n",
    "    X_train = df_train.drop('Churn', axis='columns')\n",
    "    y_train = df_train.Churn\n",
    "    return X_train, y_train "
   ]
  },
  {
   "cell_type": "code",
   "execution_count": 540,
   "id": "f41b9160-69d4-4f07-b5be-1ef3328c7352",
   "metadata": {},
   "outputs": [
    {
     "name": "stdout",
     "output_type": "stream",
     "text": [
      "              precision    recall  f1-score   support\n",
      "\n",
      "           0       0.72      0.89      0.80       834\n",
      "           1       0.76      0.50      0.60       575\n",
      "\n",
      "    accuracy                           0.73      1409\n",
      "   macro avg       0.74      0.70      0.70      1409\n",
      "weighted avg       0.74      0.73      0.72      1409\n",
      "\n"
     ]
    }
   ],
   "source": [
    "X_train, y_train = get_train(df1_class0, df1_class1, 0, 1495)\n",
    "\n",
    "classifier.fit(X_train, y_train)\n",
    "\n",
    "pred1 = classifier.predict(X_test)\n",
    "\n",
    "print(classification_report(pred1, y_test))"
   ]
  },
  {
   "cell_type": "code",
   "execution_count": 544,
   "id": "4de71420-56f3-4107-8fa3-ad0680937895",
   "metadata": {},
   "outputs": [
    {
     "name": "stdout",
     "output_type": "stream",
     "text": [
      "              precision    recall  f1-score   support\n",
      "\n",
      "           0       0.72      0.90      0.80       825\n",
      "           1       0.78      0.50      0.61       584\n",
      "\n",
      "    accuracy                           0.73      1409\n",
      "   macro avg       0.75      0.70      0.70      1409\n",
      "weighted avg       0.74      0.73      0.72      1409\n",
      "\n"
     ]
    }
   ],
   "source": [
    "X_train, y_train = get_train(df1_class0, df1_class1, 1495, 2990)\n",
    "\n",
    "classifier.fit(X_train, y_train)\n",
    "\n",
    "pred2 = classifier.predict(X_test)\n",
    "\n",
    "print(classification_report(pred2, y_test))"
   ]
  },
  {
   "cell_type": "code",
   "execution_count": 546,
   "id": "d51c4c67-7619-4d7d-87e0-21c80067f8fc",
   "metadata": {},
   "outputs": [
    {
     "name": "stdout",
     "output_type": "stream",
     "text": [
      "              precision    recall  f1-score   support\n",
      "\n",
      "           0       0.65      0.90      0.76       750\n",
      "           1       0.80      0.46      0.58       659\n",
      "\n",
      "    accuracy                           0.69      1409\n",
      "   macro avg       0.73      0.68      0.67      1409\n",
      "weighted avg       0.72      0.69      0.68      1409\n",
      "\n"
     ]
    }
   ],
   "source": [
    "X_train, y_train = get_train(df1_class0, df1_class1, 2990, 4130)\n",
    "\n",
    "classifier.fit(X_train, y_train)\n",
    "\n",
    "pred3 = classifier.predict(X_test)\n",
    "\n",
    "print(classification_report(pred3, y_test))"
   ]
  },
  {
   "cell_type": "code",
   "execution_count": 550,
   "id": "5c7d030d-b2dc-4551-b45f-ee71b156daf3",
   "metadata": {},
   "outputs": [],
   "source": [
    "pred_final = pred1.copy()\n",
    "for i in range(len(pred1)):\n",
    "    n_ones = pred1[i] + pred2[i] + pred3[i]\n",
    "    if n_ones>1:\n",
    "        pred_final[i] = 1\n",
    "    else:\n",
    "        pred_final[i] = 0"
   ]
  },
  {
   "cell_type": "code",
   "execution_count": 554,
   "id": "eb2102a3-fed6-4eca-b2be-64f2b065ebaf",
   "metadata": {},
   "outputs": [
    {
     "name": "stdout",
     "output_type": "stream",
     "text": [
      "              precision    recall  f1-score   support\n",
      "\n",
      "           0       0.90      0.71      0.79      1035\n",
      "           1       0.49      0.78      0.60       374\n",
      "\n",
      "    accuracy                           0.73      1409\n",
      "   macro avg       0.69      0.74      0.70      1409\n",
      "weighted avg       0.79      0.73      0.74      1409\n",
      "\n"
     ]
    }
   ],
   "source": [
    "cl_rep = classification_report(y_test, pred_final)\n",
    "print(cl_rep)"
   ]
  },
  {
   "cell_type": "markdown",
   "id": "e0567ad8-e783-41f0-810f-89af3fa2a4e4",
   "metadata": {},
   "source": [
    "* f1-score for minority class 1 improved to `0.60 from 0.58`. The score for majority class 0 is suffering and reduced to `0.79 from 0.86` "
   ]
  }
 ],
 "metadata": {
  "kernelspec": {
   "display_name": "Python 3 (ipykernel)",
   "language": "python",
   "name": "python3"
  },
  "language_info": {
   "codemirror_mode": {
    "name": "ipython",
    "version": 3
   },
   "file_extension": ".py",
   "mimetype": "text/x-python",
   "name": "python",
   "nbconvert_exporter": "python",
   "pygments_lexer": "ipython3",
   "version": "3.12.4"
  },
  "widgets": {
   "application/vnd.jupyter.widget-state+json": {
    "state": {},
    "version_major": 2,
    "version_minor": 0
   }
  }
 },
 "nbformat": 4,
 "nbformat_minor": 5
}
