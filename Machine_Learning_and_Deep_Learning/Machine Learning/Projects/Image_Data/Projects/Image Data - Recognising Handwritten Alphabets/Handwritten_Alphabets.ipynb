{
 "cells": [
  {
   "cell_type": "markdown",
   "id": "e4ca6a3f-3ac7-4836-b4d2-f6a3e90cc838",
   "metadata": {},
   "source": [
    "## **Importing Required Libraries**"
   ]
  },
  {
   "cell_type": "code",
   "execution_count": 1,
   "id": "2ac0826b-642e-4ec9-9c02-6801c3522991",
   "metadata": {},
   "outputs": [],
   "source": [
    "import numpy as np\n",
    "import pandas as pd\n",
    "import os\n",
    "from PIL import Image\n",
    "\n",
    "import matplotlib.pyplot as plt\n",
    "import seaborn as sns"
   ]
  },
  {
   "cell_type": "markdown",
   "id": "fcec167b-7a9c-4fd6-8500-87cf68c4bb58",
   "metadata": {},
   "source": [
    "## **Unzip files**"
   ]
  },
  {
   "cell_type": "code",
   "execution_count": 1,
   "id": "3cb6c097-948b-448e-9c42-21fde6453130",
   "metadata": {},
   "outputs": [
    {
     "name": "stdout",
     "output_type": "stream",
     "text": [
      "CPU times: total: 0 ns\n",
      "Wall time: 0 ns\n",
      "Data uncompressed successfully...\n",
      "\n"
     ]
    }
   ],
   "source": [
    "import zipfile\n",
    "\n",
    "%time\n",
    "def unzip(zip_file_path, output_dir_path):\n",
    "    with zipfile.ZipFile(zip_file_path, \"r\") as zip:\n",
    "        zip.extractall(output_dir_path)\n",
    "    print(\"Data uncompressed successfully...\")\n",
    "    print()\n",
    "\n",
    "zip_file_path = r\"C:\\Users\\VARSHINA\\Downloads\\mnist.zip\"\n",
    "output_dir_path = r\"D:\\Extracted_alphabets_image_files\"\n",
    "\n",
    "unzip(zip_file_path,output_dir_path)"
   ]
  },
  {
   "cell_type": "markdown",
   "id": "8080be54-6ac1-450d-955a-3360ec12028d",
   "metadata": {},
   "source": [
    "## **Pre Analysis of Given Data**\n",
    "\n",
    "#### **What are the image file extensions?**"
   ]
  },
  {
   "cell_type": "code",
   "execution_count": 22,
   "id": "75449df9-ea6c-4695-b8b2-812108340010",
   "metadata": {},
   "outputs": [
    {
     "name": "stdout",
     "output_type": "stream",
     "text": [
      "Reading images from D:\\Extracted_alphabets_image_files, Found 0 files.\n",
      "Reading images from D:\\Extracted_alphabets_image_files\\New folder, Found 0 files.\n",
      "Reading images from D:\\Extracted_alphabets_image_files\\New folder\\A, Found 13870 files.\n",
      "Reading images from D:\\Extracted_alphabets_image_files\\New folder\\B, Found 8668 files.\n",
      "Reading images from D:\\Extracted_alphabets_image_files\\New folder\\C, Found 23409 files.\n",
      "Reading images from D:\\Extracted_alphabets_image_files\\New folder\\D, Found 10134 files.\n",
      "Reading images from D:\\Extracted_alphabets_image_files\\New folder\\E, Found 11440 files.\n",
      "Reading images from D:\\Extracted_alphabets_image_files\\New folder\\F, Found 1163 files.\n",
      "Reading images from D:\\Extracted_alphabets_image_files\\New folder\\G, Found 5762 files.\n",
      "Reading images from D:\\Extracted_alphabets_image_files\\New folder\\H, Found 7218 files.\n",
      "Reading images from D:\\Extracted_alphabets_image_files\\New folder\\I, Found 1120 files.\n",
      "Reading images from D:\\Extracted_alphabets_image_files\\New folder\\J, Found 8493 files.\n",
      "Reading images from D:\\Extracted_alphabets_image_files\\New folder\\K, Found 5603 files.\n",
      "Reading images from D:\\Extracted_alphabets_image_files\\New folder\\L, Found 11586 files.\n",
      "Reading images from D:\\Extracted_alphabets_image_files\\New folder\\M, Found 12336 files.\n",
      "Reading images from D:\\Extracted_alphabets_image_files\\New folder\\N, Found 19010 files.\n",
      "Reading images from D:\\Extracted_alphabets_image_files\\New folder\\O, Found 57825 files.\n",
      "Reading images from D:\\Extracted_alphabets_image_files\\New folder\\P, Found 19341 files.\n",
      "Reading images from D:\\Extracted_alphabets_image_files\\New folder\\Q, Found 5812 files.\n",
      "Reading images from D:\\Extracted_alphabets_image_files\\New folder\\R, Found 11566 files.\n",
      "Reading images from D:\\Extracted_alphabets_image_files\\New folder\\S, Found 48419 files.\n",
      "Reading images from D:\\Extracted_alphabets_image_files\\New folder\\T, Found 22495 files.\n",
      "Reading images from D:\\Extracted_alphabets_image_files\\New folder\\U, Found 29008 files.\n",
      "Reading images from D:\\Extracted_alphabets_image_files\\New folder\\V, Found 4182 files.\n",
      "Reading images from D:\\Extracted_alphabets_image_files\\New folder\\W, Found 10784 files.\n",
      "Reading images from D:\\Extracted_alphabets_image_files\\New folder\\X, Found 6272 files.\n",
      "Reading images from D:\\Extracted_alphabets_image_files\\New folder\\Y, Found 10859 files.\n",
      "Reading images from D:\\Extracted_alphabets_image_files\\New folder\\Z, Found 6076 files.\n",
      "\n",
      "Total Number of Files: 372451\n",
      "File extensions: {'.png'}\n"
     ]
    }
   ],
   "source": [
    "file_extensions = []\n",
    "for root, dirs, files in os.walk(path):\n",
    "    print(f\"Reading images from {root}, Found {len(files)} files.\")\n",
    "    for file_name in files:\n",
    "        file_extensions.append(os.path.splitext(file_name)[-1])\n",
    "        file_path = os.path.join(root, file_name)\n",
    "\n",
    "print()\n",
    "print(\"Total Number of Files:\", len(file_extensions))\n",
    "print(\"File extensions:\", set(file_extensions)) \n",
    "path = r\"D:\\Extracted_alphabets_image_files\""
   ]
  },
  {
   "cell_type": "markdown",
   "id": "9ac72b3f-2f66-4b58-8f85-6c9d1c9bb8a1",
   "metadata": {},
   "source": [
    "### **What are the image sizes, extensions and modes?**\n"
   ]
  },
  {
   "cell_type": "code",
   "execution_count": 23,
   "id": "3cc82b10-3f3c-4e7d-93ac-ebac5ed86a44",
   "metadata": {},
   "outputs": [],
   "source": [
    "def read_image_files(path):\n",
    "    images_data = []\n",
    "    for root, dirs, files in os.walk(path):\n",
    "        for file_name in files:\n",
    "            extension = os.path.splitext(file_name)[-1]\n",
    "            if extension in file_extensions:\n",
    "                file_path = os.path.join(root, file_name)\n",
    "                img = Image.open(file_path)\n",
    "                images_data.append({\"file_name\": file_name,\n",
    "                                    \"extension\": extension, \n",
    "                                    \"size\": img.size, \n",
    "                                    \"mode\": img.mode, \n",
    "                                    \"dir\": root})\n",
    "    return images_data\n",
    "\n",
    "def load_into_df(images_data):\n",
    "    df = pd.DataFrame(images_data)\n",
    "    return df"
   ]
  },
  {
   "cell_type": "code",
   "execution_count": 24,
   "id": "9e2f6ba0-5e9f-4460-947d-6e83df39a99b",
   "metadata": {},
   "outputs": [
    {
     "name": "stdout",
     "output_type": "stream",
     "text": [
      "CPU times: total: 48.7 s\n",
      "Wall time: 30min 41s\n"
     ]
    },
    {
     "data": {
      "text/html": [
       "<div>\n",
       "<style scoped>\n",
       "    .dataframe tbody tr th:only-of-type {\n",
       "        vertical-align: middle;\n",
       "    }\n",
       "\n",
       "    .dataframe tbody tr th {\n",
       "        vertical-align: top;\n",
       "    }\n",
       "\n",
       "    .dataframe thead th {\n",
       "        text-align: right;\n",
       "    }\n",
       "</style>\n",
       "<table border=\"1\" class=\"dataframe\">\n",
       "  <thead>\n",
       "    <tr style=\"text-align: right;\">\n",
       "      <th></th>\n",
       "      <th>file_name</th>\n",
       "      <th>extension</th>\n",
       "      <th>size</th>\n",
       "      <th>mode</th>\n",
       "      <th>dir</th>\n",
       "    </tr>\n",
       "  </thead>\n",
       "  <tbody>\n",
       "    <tr>\n",
       "      <th>0</th>\n",
       "      <td>A-0.png</td>\n",
       "      <td>.png</td>\n",
       "      <td>(28, 28)</td>\n",
       "      <td>L</td>\n",
       "      <td>D:\\Extracted_alphabets_image_files\\New folder\\A</td>\n",
       "    </tr>\n",
       "    <tr>\n",
       "      <th>1</th>\n",
       "      <td>A-1.png</td>\n",
       "      <td>.png</td>\n",
       "      <td>(28, 28)</td>\n",
       "      <td>L</td>\n",
       "      <td>D:\\Extracted_alphabets_image_files\\New folder\\A</td>\n",
       "    </tr>\n",
       "    <tr>\n",
       "      <th>2</th>\n",
       "      <td>A-10.png</td>\n",
       "      <td>.png</td>\n",
       "      <td>(28, 28)</td>\n",
       "      <td>L</td>\n",
       "      <td>D:\\Extracted_alphabets_image_files\\New folder\\A</td>\n",
       "    </tr>\n",
       "    <tr>\n",
       "      <th>3</th>\n",
       "      <td>A-100.png</td>\n",
       "      <td>.png</td>\n",
       "      <td>(28, 28)</td>\n",
       "      <td>L</td>\n",
       "      <td>D:\\Extracted_alphabets_image_files\\New folder\\A</td>\n",
       "    </tr>\n",
       "    <tr>\n",
       "      <th>4</th>\n",
       "      <td>A-1000.png</td>\n",
       "      <td>.png</td>\n",
       "      <td>(28, 28)</td>\n",
       "      <td>L</td>\n",
       "      <td>D:\\Extracted_alphabets_image_files\\New folder\\A</td>\n",
       "    </tr>\n",
       "  </tbody>\n",
       "</table>\n",
       "</div>"
      ],
      "text/plain": [
       "    file_name extension      size mode  \\\n",
       "0     A-0.png      .png  (28, 28)    L   \n",
       "1     A-1.png      .png  (28, 28)    L   \n",
       "2    A-10.png      .png  (28, 28)    L   \n",
       "3   A-100.png      .png  (28, 28)    L   \n",
       "4  A-1000.png      .png  (28, 28)    L   \n",
       "\n",
       "                                               dir  \n",
       "0  D:\\Extracted_alphabets_image_files\\New folder\\A  \n",
       "1  D:\\Extracted_alphabets_image_files\\New folder\\A  \n",
       "2  D:\\Extracted_alphabets_image_files\\New folder\\A  \n",
       "3  D:\\Extracted_alphabets_image_files\\New folder\\A  \n",
       "4  D:\\Extracted_alphabets_image_files\\New folder\\A  "
      ]
     },
     "execution_count": 24,
     "metadata": {},
     "output_type": "execute_result"
    }
   ],
   "source": [
    "%%time\n",
    "\n",
    "images_data = read_image_files(path)\n",
    "\n",
    "df = load_into_df(images_data)\n",
    "\n",
    "df.head()"
   ]
  },
  {
   "cell_type": "code",
   "execution_count": 25,
   "id": "6293204c-eb37-44f0-807e-d82027ade924",
   "metadata": {},
   "outputs": [
    {
     "data": {
      "text/plain": [
       "(372451, 5)"
      ]
     },
     "execution_count": 25,
     "metadata": {},
     "output_type": "execute_result"
    }
   ],
   "source": [
    "df.shape"
   ]
  },
  {
   "cell_type": "code",
   "execution_count": 26,
   "id": "22de10d0-7ca7-4e13-9142-48feea157205",
   "metadata": {},
   "outputs": [
    {
     "data": {
      "text/plain": [
       "extension\n",
       ".png    372451\n",
       "Name: count, dtype: int64"
      ]
     },
     "execution_count": 26,
     "metadata": {},
     "output_type": "execute_result"
    }
   ],
   "source": [
    "df['extension'].value_counts() "
   ]
  },
  {
   "cell_type": "code",
   "execution_count": 27,
   "id": "e0e2d726-5f7f-4dde-8d28-ad859cdcaa70",
   "metadata": {},
   "outputs": [
    {
     "data": {
      "text/plain": [
       "size\n",
       "(28, 28)    372451\n",
       "Name: count, dtype: int64"
      ]
     },
     "execution_count": 27,
     "metadata": {},
     "output_type": "execute_result"
    }
   ],
   "source": [
    "df['size'].value_counts()"
   ]
  },
  {
   "cell_type": "code",
   "execution_count": 28,
   "id": "6b0af33e-09a8-45c7-a429-e492badc38a2",
   "metadata": {},
   "outputs": [
    {
     "data": {
      "text/plain": [
       "mode\n",
       "L    372451\n",
       "Name: count, dtype: int64"
      ]
     },
     "execution_count": 28,
     "metadata": {},
     "output_type": "execute_result"
    }
   ],
   "source": [
    "df['mode'].value_counts() "
   ]
  },
  {
   "cell_type": "markdown",
   "id": "2a78c84c-c6b1-4ca9-8f4e-9dedf9ad1f87",
   "metadata": {},
   "source": [
    "## **Observations**\n",
    "\n",
    "1.There are 372451 images in total.\n",
    "\n",
    "2.All these images are having **.png** format.\n",
    "\n",
    "3.All these images are of same size i.e. **(28, 28)** and same mode i.e. **Gray Scale**"
   ]
  },
  {
   "cell_type": "markdown",
   "id": "9660f7d0-ddb3-4bcb-aed1-b2d7d715d194",
   "metadata": {},
   "source": [
    "## **Writing data to csv**"
   ]
  },
  {
   "cell_type": "code",
   "execution_count": 22,
   "id": "26b9ae45-4413-46f5-b190-abc7f1ca3fd8",
   "metadata": {},
   "outputs": [],
   "source": [
    "def read_image_files(path):\n",
    "    images_data = []\n",
    "    first_dir_skipped = False\n",
    "    label_count = {}\n",
    "\n",
    "    for root, dirs, files in os.walk(path):\n",
    "        if not first_dir_skipped:\n",
    "            first_dir_skipped = True\n",
    "            continue\n",
    "\n",
    "        dir_name = os.path.basename(root)\n",
    "        dir_last_char = dir_name[-1]\n",
    "\n",
    "        if dir_last_char not in label_count:\n",
    "            label_count[dir_last_char] = 0\n",
    "\n",
    "        files = [f for f in files if os.path.splitext(f)[-1].lower() in ['.jpg', '.jpeg', '.png', '.bmp', '.gif', '.tiff']]\n",
    "        for file_name in tqdm(files, desc=f'Processing {dir_name}', leave=False):\n",
    "            file_path = os.path.join(root, file_name)\n",
    "            img = Image.open(file_path).convert('L')  # Convert image to grayscale\n",
    "            img = img.resize((8, 8))  # Resize image to 8x8 pixels\n",
    "            img_array = list(img.getdata())  # Get pixel data\n",
    "\n",
    "            # Create a dictionary with pixel data and label\n",
    "            img_data = {f'pixel{i}': img_array[i] for i in range(64)}\n",
    "            img_data['label'] = dir_last_char\n",
    "\n",
    "            images_data.append(img_data)\n",
    "            label_count[dir_last_char] += 1\n",
    "    return images_data\n",
    "\n",
    "def load_into_df(images_data):\n",
    "    df = pd.DataFrame(images_data)\n",
    "    return df"
   ]
  },
  {
   "cell_type": "code",
   "execution_count": 23,
   "id": "433c00c2-19d8-41b8-a892-31c39be9f878",
   "metadata": {},
   "outputs": [
    {
     "name": "stderr",
     "output_type": "stream",
     "text": [
      "                                                                    \r"
     ]
    },
    {
     "data": {
      "text/html": [
       "<div>\n",
       "<style scoped>\n",
       "    .dataframe tbody tr th:only-of-type {\n",
       "        vertical-align: middle;\n",
       "    }\n",
       "\n",
       "    .dataframe tbody tr th {\n",
       "        vertical-align: top;\n",
       "    }\n",
       "\n",
       "    .dataframe thead th {\n",
       "        text-align: right;\n",
       "    }\n",
       "</style>\n",
       "<table border=\"1\" class=\"dataframe\">\n",
       "  <thead>\n",
       "    <tr style=\"text-align: right;\">\n",
       "      <th></th>\n",
       "      <th>pixel0</th>\n",
       "      <th>pixel1</th>\n",
       "      <th>pixel2</th>\n",
       "      <th>pixel3</th>\n",
       "      <th>pixel4</th>\n",
       "      <th>pixel5</th>\n",
       "      <th>pixel6</th>\n",
       "      <th>pixel7</th>\n",
       "      <th>pixel8</th>\n",
       "      <th>pixel9</th>\n",
       "      <th>...</th>\n",
       "      <th>pixel55</th>\n",
       "      <th>pixel56</th>\n",
       "      <th>pixel57</th>\n",
       "      <th>pixel58</th>\n",
       "      <th>pixel59</th>\n",
       "      <th>pixel60</th>\n",
       "      <th>pixel61</th>\n",
       "      <th>pixel62</th>\n",
       "      <th>pixel63</th>\n",
       "      <th>label</th>\n",
       "    </tr>\n",
       "  </thead>\n",
       "  <tbody>\n",
       "    <tr>\n",
       "      <th>0</th>\n",
       "      <td>0</td>\n",
       "      <td>0</td>\n",
       "      <td>0</td>\n",
       "      <td>0</td>\n",
       "      <td>0</td>\n",
       "      <td>0</td>\n",
       "      <td>0</td>\n",
       "      <td>0</td>\n",
       "      <td>0</td>\n",
       "      <td>0</td>\n",
       "      <td>...</td>\n",
       "      <td>0</td>\n",
       "      <td>0</td>\n",
       "      <td>0</td>\n",
       "      <td>0</td>\n",
       "      <td>0</td>\n",
       "      <td>0</td>\n",
       "      <td>1</td>\n",
       "      <td>0</td>\n",
       "      <td>0</td>\n",
       "      <td>A</td>\n",
       "    </tr>\n",
       "    <tr>\n",
       "      <th>1</th>\n",
       "      <td>0</td>\n",
       "      <td>0</td>\n",
       "      <td>0</td>\n",
       "      <td>0</td>\n",
       "      <td>0</td>\n",
       "      <td>0</td>\n",
       "      <td>0</td>\n",
       "      <td>0</td>\n",
       "      <td>0</td>\n",
       "      <td>0</td>\n",
       "      <td>...</td>\n",
       "      <td>0</td>\n",
       "      <td>0</td>\n",
       "      <td>0</td>\n",
       "      <td>0</td>\n",
       "      <td>0</td>\n",
       "      <td>2</td>\n",
       "      <td>0</td>\n",
       "      <td>0</td>\n",
       "      <td>0</td>\n",
       "      <td>A</td>\n",
       "    </tr>\n",
       "    <tr>\n",
       "      <th>2</th>\n",
       "      <td>0</td>\n",
       "      <td>0</td>\n",
       "      <td>1</td>\n",
       "      <td>0</td>\n",
       "      <td>0</td>\n",
       "      <td>0</td>\n",
       "      <td>0</td>\n",
       "      <td>0</td>\n",
       "      <td>0</td>\n",
       "      <td>0</td>\n",
       "      <td>...</td>\n",
       "      <td>0</td>\n",
       "      <td>0</td>\n",
       "      <td>0</td>\n",
       "      <td>0</td>\n",
       "      <td>0</td>\n",
       "      <td>0</td>\n",
       "      <td>0</td>\n",
       "      <td>0</td>\n",
       "      <td>0</td>\n",
       "      <td>A</td>\n",
       "    </tr>\n",
       "    <tr>\n",
       "      <th>3</th>\n",
       "      <td>0</td>\n",
       "      <td>0</td>\n",
       "      <td>0</td>\n",
       "      <td>0</td>\n",
       "      <td>0</td>\n",
       "      <td>0</td>\n",
       "      <td>0</td>\n",
       "      <td>0</td>\n",
       "      <td>0</td>\n",
       "      <td>0</td>\n",
       "      <td>...</td>\n",
       "      <td>0</td>\n",
       "      <td>0</td>\n",
       "      <td>0</td>\n",
       "      <td>0</td>\n",
       "      <td>0</td>\n",
       "      <td>0</td>\n",
       "      <td>0</td>\n",
       "      <td>1</td>\n",
       "      <td>0</td>\n",
       "      <td>A</td>\n",
       "    </tr>\n",
       "    <tr>\n",
       "      <th>4</th>\n",
       "      <td>0</td>\n",
       "      <td>0</td>\n",
       "      <td>0</td>\n",
       "      <td>1</td>\n",
       "      <td>0</td>\n",
       "      <td>0</td>\n",
       "      <td>0</td>\n",
       "      <td>0</td>\n",
       "      <td>0</td>\n",
       "      <td>0</td>\n",
       "      <td>...</td>\n",
       "      <td>0</td>\n",
       "      <td>0</td>\n",
       "      <td>0</td>\n",
       "      <td>0</td>\n",
       "      <td>0</td>\n",
       "      <td>0</td>\n",
       "      <td>0</td>\n",
       "      <td>0</td>\n",
       "      <td>0</td>\n",
       "      <td>A</td>\n",
       "    </tr>\n",
       "  </tbody>\n",
       "</table>\n",
       "<p>5 rows × 65 columns</p>\n",
       "</div>"
      ],
      "text/plain": [
       "   pixel0  pixel1  pixel2  pixel3  pixel4  pixel5  pixel6  pixel7  pixel8  \\\n",
       "0       0       0       0       0       0       0       0       0       0   \n",
       "1       0       0       0       0       0       0       0       0       0   \n",
       "2       0       0       1       0       0       0       0       0       0   \n",
       "3       0       0       0       0       0       0       0       0       0   \n",
       "4       0       0       0       1       0       0       0       0       0   \n",
       "\n",
       "   pixel9  ...  pixel55  pixel56  pixel57  pixel58  pixel59  pixel60  pixel61  \\\n",
       "0       0  ...        0        0        0        0        0        0        1   \n",
       "1       0  ...        0        0        0        0        0        2        0   \n",
       "2       0  ...        0        0        0        0        0        0        0   \n",
       "3       0  ...        0        0        0        0        0        0        0   \n",
       "4       0  ...        0        0        0        0        0        0        0   \n",
       "\n",
       "   pixel62  pixel63  label  \n",
       "0        0        0      A  \n",
       "1        0        0      A  \n",
       "2        0        0      A  \n",
       "3        1        0      A  \n",
       "4        0        0      A  \n",
       "\n",
       "[5 rows x 65 columns]"
      ]
     },
     "execution_count": 23,
     "metadata": {},
     "output_type": "execute_result"
    }
   ],
   "source": [
    "path = r\"D:\\Extracted_alphabets_image_files\"\n",
    "images_data = read_image_files(path)\n",
    "\n",
    "image_df = load_into_df(images_data)\n",
    "\n",
    "# Writing df to csv file\n",
    "image_df.to_csv('image_alphabets.csv', index = False)\n",
    "\n",
    "image_df.head()"
   ]
  },
  {
   "cell_type": "markdown",
   "id": "b597551a-af15-42a8-a6a7-09bc7d31fca0",
   "metadata": {},
   "source": [
    "## **Step 1 - Load the Dataset**"
   ]
  },
  {
   "cell_type": "code",
   "execution_count": null,
   "id": "56f89ad0-68d4-4ad6-b882-a291d72d8db3",
   "metadata": {},
   "outputs": [],
   "source": [
    "df = pd.read_csv('output.csv') \n",
    "df.head()"
   ]
  },
  {
   "cell_type": "markdown",
   "id": "9977d70a-fc74-4110-9696-bd42b7538b10",
   "metadata": {},
   "source": [
    "## **Step 2 - Exploratory Data Analysis**"
   ]
  },
  {
   "cell_type": "code",
   "execution_count": 3,
   "id": "03d3cb0b-aa4e-41b0-a798-558ed22949de",
   "metadata": {},
   "outputs": [
    {
     "data": {
      "text/plain": [
       "(372451, 65)"
      ]
     },
     "execution_count": 3,
     "metadata": {},
     "output_type": "execute_result"
    }
   ],
   "source": [
    "image_df.shape "
   ]
  },
  {
   "cell_type": "code",
   "execution_count": 4,
   "id": "d32fadf2-9494-4251-8495-cf0eec217843",
   "metadata": {},
   "outputs": [
    {
     "data": {
      "text/plain": [
       "26"
      ]
     },
     "execution_count": 4,
     "metadata": {},
     "output_type": "execute_result"
    }
   ],
   "source": [
    "image_df['label'].nunique() "
   ]
  },
  {
   "cell_type": "code",
   "execution_count": 5,
   "id": "fc31503c-c031-4e21-8c26-c19d0a38efe6",
   "metadata": {},
   "outputs": [
    {
     "data": {
      "text/plain": [
       "label\n",
       "O    0.155255\n",
       "S    0.130001\n",
       "U    0.077884\n",
       "C    0.062851\n",
       "T    0.060397\n",
       "P    0.051929\n",
       "N    0.051040\n",
       "A    0.037240\n",
       "M    0.033121\n",
       "L    0.031107\n",
       "R    0.031054\n",
       "E    0.030715\n",
       "Y    0.029156\n",
       "W    0.028954\n",
       "D    0.027209\n",
       "B    0.023273\n",
       "J    0.022803\n",
       "H    0.019380\n",
       "X    0.016840\n",
       "Z    0.016314\n",
       "Q    0.015605\n",
       "G    0.015470\n",
       "K    0.015044\n",
       "V    0.011228\n",
       "F    0.003123\n",
       "I    0.003007\n",
       "Name: proportion, dtype: float64"
      ]
     },
     "execution_count": 5,
     "metadata": {},
     "output_type": "execute_result"
    }
   ],
   "source": [
    "image_df['label'].value_counts(normalize = True)"
   ]
  },
  {
   "cell_type": "code",
   "execution_count": 6,
   "id": "d4729f1f-968d-4abb-af3e-15cbc54654ad",
   "metadata": {},
   "outputs": [
    {
     "data": {
      "text/plain": [
       "<Axes: xlabel='label', ylabel='count'>"
      ]
     },
     "execution_count": 6,
     "metadata": {},
     "output_type": "execute_result"
    },
    {
     "data": {
      "image/png": "[encoded data removed]",
      "text/plain": [
       "<Figure size 640x480 with 1 Axes>"
      ]
     },
     "metadata": {},
     "output_type": "display_data"
    }
   ],
   "source": [
    "sns.countplot(data=image_df, x='label')"
   ]
  },
  {
   "cell_type": "code",
   "execution_count": 7,
   "id": "3cb39b31-b32f-4aa3-bea2-ed9dc04c9e8c",
   "metadata": {},
   "outputs": [
    {
     "name": "stdout",
     "output_type": "stream",
     "text": [
      "Randomly Generated index: 557\n",
      "Label of image at 557 index: A\n",
      "\n",
      "Data Type of Image Array: object\n",
      "Image Array:\n",
      " [[0 0 0 0 1 0 0 0]\n",
      " [0 0 0 24 131 39 0 0]\n",
      " [0 0 0 97 96 89 0 0]\n",
      " [0 0 13 129 34 109 0 0]\n",
      " [0 0 60 171 137 127 0 0]\n",
      " [0 0 107 63 58 101 0 0]\n",
      " [0 0 81 8 63 61 0 0]\n",
      " [0 0 0 0 3 0 0 0]]\n"
     ]
    },
    {
     "data": {
      "text/plain": [
       "<matplotlib.image.AxesImage at 0x23f248b4850>"
      ]
     },
     "execution_count": 7,
     "metadata": {},
     "output_type": "execute_result"
    },
    {
     "data": {
      "image/png": "[encoded data removed]",
      "text/plain": [
       "<Figure size 640x480 with 1 Axes>"
      ]
     },
     "metadata": {},
     "output_type": "display_data"
    }
   ],
   "source": [
    "idx = np.random.randint(0, 1796)\n",
    "\n",
    "print(\"Randomly Generated index:\", idx)\n",
    "\n",
    "print(f\"Label of image at {idx} index:\", image_df.iloc[idx, -1])\n",
    "print()\n",
    "\n",
    "img = np.reshape(image_df.iloc[idx, 0:-1], (8,8))\n",
    "\n",
    "print(\"Data Type of Image Array:\", img.dtype)\n",
    "print(\"Image Array:\\n\", img)\n",
    "\n",
    "img = img.astype(\"float\")\n",
    "\n",
    "plt.imshow(img)"
   ]
  },
  {
   "cell_type": "code",
   "execution_count": 8,
   "id": "1c58a20e-d55e-487a-85a9-70bc2580b002",
   "metadata": {},
   "outputs": [
    {
     "name": "stdout",
     "output_type": "stream",
     "text": [
      "[ 64715  67728 127041  78089  86472 135444 286731  59578 162148]\n"
     ]
    },
    {
     "data": {
      "image/png": "[encoded data removed]",
      "text/plain": [
       "<Figure size 1200x1200 with 9 Axes>"
      ]
     },
     "metadata": {},
     "output_type": "display_data"
    }
   ],
   "source": [
    "plt.figure(figsize=(12, 12))\n",
    "idx = np.random.randint(0, image_df.shape[0], 9)\n",
    "print(idx)\n",
    "\n",
    "for i in range(len(idx)):\n",
    "    plt.subplot(3, 3, i+1)\n",
    "    label = image_df.iloc[idx[i], -1]\n",
    "    plt.title(label)\n",
    "    img_grid = np.reshape(image_df.iloc[idx[i], 0:-1], (8,8))\n",
    "    img_grid = img_grid.astype(\"float\")\n",
    "    plt.imshow(img_grid) "
   ]
  },
  {
   "cell_type": "markdown",
   "id": "00ad94c0-3f8c-4092-822e-b65aecc8cf5e",
   "metadata": {},
   "source": [
    "#### **Note : Here we are selecting 50,000 samples from original dataset**"
   ]
  },
  {
   "cell_type": "code",
   "execution_count": 9,
   "id": "f1a5d05a-4495-4b2d-9979-b233a8506d37",
   "metadata": {},
   "outputs": [
    {
     "name": "stdout",
     "output_type": "stream",
     "text": [
      "Sampled Dataset Size: 50000\n"
     ]
    }
   ],
   "source": [
    "from sklearn.model_selection import train_test_split\n",
    "\n",
    "strata_column = 'label'\n",
    "\n",
    "# Perform Stratified Sampling\n",
    "df_sample, _ = train_test_split(image_df, test_size=(len(image_df) - 50000) / len(image_df), stratify=image_df[strata_column], random_state=42)\n",
    "\n",
    "# Check the size of the sampled dataset\n",
    "print(\"Sampled Dataset Size:\", len(df_sample))"
   ]
  },
  {
   "cell_type": "markdown",
   "id": "e974d80d-4a07-4a0a-a935-3bea8e2b6958",
   "metadata": {},
   "source": [
    "## **Step 3 - Segregate Inputs (X) and Output (y)**"
   ]
  },
  {
   "cell_type": "code",
   "execution_count": 10,
   "id": "cacbe85a-cbb8-46ef-96ac-1986d3159150",
   "metadata": {},
   "outputs": [],
   "source": [
    "X = df_sample.drop(columns = ['label'])\n",
    "y = df_sample['label']"
   ]
  },
  {
   "cell_type": "markdown",
   "id": "50bac621-c39c-4ba5-8bd5-9fefc2d804b9",
   "metadata": {},
   "source": [
    "## **Step 4 - Split the data into Train and Test**"
   ]
  },
  {
   "cell_type": "code",
   "execution_count": 13,
   "id": "0da73b23-7aff-485f-84e3-407e41a9bd68",
   "metadata": {},
   "outputs": [
    {
     "name": "stdout",
     "output_type": "stream",
     "text": [
      "(40000, 64) (40000,)\n",
      "(10000, 64) (10000,)\n"
     ]
    }
   ],
   "source": [
    "from sklearn.model_selection import train_test_split\n",
    "\n",
    "X_train, X_test, y_train, y_test = train_test_split(X, y, test_size= 0.2, random_state= 42)\n",
    "\n",
    "\n",
    "print(X_train.shape, y_train.shape)\n",
    "print(X_test.shape, y_test.shape)"
   ]
  },
  {
   "cell_type": "markdown",
   "id": "8a1c4288-57c1-4317-b6b4-1363caedd439",
   "metadata": {},
   "source": [
    "## **Step 5 and 7 - Apply Data Preparation on Train and Test Data**"
   ]
  },
  {
   "cell_type": "code",
   "execution_count": 25,
   "id": "36d86f8b-b8d1-4e67-8a35-0bcb69bb4081",
   "metadata": {},
   "outputs": [
    {
     "data": {
      "text/html": [
       "<div>\n",
       "<style scoped>\n",
       "    .dataframe tbody tr th:only-of-type {\n",
       "        vertical-align: middle;\n",
       "    }\n",
       "\n",
       "    .dataframe tbody tr th {\n",
       "        vertical-align: top;\n",
       "    }\n",
       "\n",
       "    .dataframe thead th {\n",
       "        text-align: right;\n",
       "    }\n",
       "</style>\n",
       "<table border=\"1\" class=\"dataframe\">\n",
       "  <thead>\n",
       "    <tr style=\"text-align: right;\">\n",
       "      <th></th>\n",
       "      <th>pixel0</th>\n",
       "      <th>pixel1</th>\n",
       "      <th>pixel2</th>\n",
       "      <th>pixel3</th>\n",
       "      <th>pixel4</th>\n",
       "      <th>pixel5</th>\n",
       "      <th>pixel6</th>\n",
       "      <th>pixel7</th>\n",
       "      <th>pixel8</th>\n",
       "      <th>pixel9</th>\n",
       "      <th>...</th>\n",
       "      <th>pixel54</th>\n",
       "      <th>pixel55</th>\n",
       "      <th>pixel56</th>\n",
       "      <th>pixel57</th>\n",
       "      <th>pixel58</th>\n",
       "      <th>pixel59</th>\n",
       "      <th>pixel60</th>\n",
       "      <th>pixel61</th>\n",
       "      <th>pixel62</th>\n",
       "      <th>pixel63</th>\n",
       "    </tr>\n",
       "  </thead>\n",
       "  <tbody>\n",
       "    <tr>\n",
       "      <th>180518</th>\n",
       "      <td>0.0</td>\n",
       "      <td>0.0</td>\n",
       "      <td>0.0</td>\n",
       "      <td>0.0</td>\n",
       "      <td>0.0</td>\n",
       "      <td>0.0</td>\n",
       "      <td>0.000000</td>\n",
       "      <td>0.0</td>\n",
       "      <td>0.0</td>\n",
       "      <td>0.047059</td>\n",
       "      <td>...</td>\n",
       "      <td>0.0</td>\n",
       "      <td>0.0</td>\n",
       "      <td>0.0</td>\n",
       "      <td>0.000000</td>\n",
       "      <td>0.000000</td>\n",
       "      <td>0.0</td>\n",
       "      <td>0.000000</td>\n",
       "      <td>0.000000</td>\n",
       "      <td>0.0</td>\n",
       "      <td>0.0</td>\n",
       "    </tr>\n",
       "    <tr>\n",
       "      <th>126214</th>\n",
       "      <td>0.0</td>\n",
       "      <td>0.0</td>\n",
       "      <td>0.0</td>\n",
       "      <td>0.0</td>\n",
       "      <td>0.0</td>\n",
       "      <td>0.0</td>\n",
       "      <td>0.000000</td>\n",
       "      <td>0.0</td>\n",
       "      <td>0.0</td>\n",
       "      <td>0.000000</td>\n",
       "      <td>...</td>\n",
       "      <td>0.0</td>\n",
       "      <td>0.0</td>\n",
       "      <td>0.0</td>\n",
       "      <td>0.000000</td>\n",
       "      <td>0.000000</td>\n",
       "      <td>0.0</td>\n",
       "      <td>0.000000</td>\n",
       "      <td>0.000000</td>\n",
       "      <td>0.0</td>\n",
       "      <td>0.0</td>\n",
       "    </tr>\n",
       "    <tr>\n",
       "      <th>351917</th>\n",
       "      <td>0.0</td>\n",
       "      <td>0.0</td>\n",
       "      <td>0.0</td>\n",
       "      <td>0.0</td>\n",
       "      <td>0.0</td>\n",
       "      <td>0.0</td>\n",
       "      <td>0.011905</td>\n",
       "      <td>0.0</td>\n",
       "      <td>0.0</td>\n",
       "      <td>0.000000</td>\n",
       "      <td>...</td>\n",
       "      <td>0.0</td>\n",
       "      <td>0.0</td>\n",
       "      <td>0.0</td>\n",
       "      <td>0.011236</td>\n",
       "      <td>0.000000</td>\n",
       "      <td>0.0</td>\n",
       "      <td>0.000000</td>\n",
       "      <td>0.000000</td>\n",
       "      <td>0.0</td>\n",
       "      <td>0.0</td>\n",
       "    </tr>\n",
       "    <tr>\n",
       "      <th>312220</th>\n",
       "      <td>0.0</td>\n",
       "      <td>0.0</td>\n",
       "      <td>0.0</td>\n",
       "      <td>0.0</td>\n",
       "      <td>0.0</td>\n",
       "      <td>0.0</td>\n",
       "      <td>0.000000</td>\n",
       "      <td>0.0</td>\n",
       "      <td>0.0</td>\n",
       "      <td>0.000000</td>\n",
       "      <td>...</td>\n",
       "      <td>0.0</td>\n",
       "      <td>0.0</td>\n",
       "      <td>0.0</td>\n",
       "      <td>0.000000</td>\n",
       "      <td>0.064286</td>\n",
       "      <td>0.0</td>\n",
       "      <td>0.000000</td>\n",
       "      <td>0.000000</td>\n",
       "      <td>0.0</td>\n",
       "      <td>0.0</td>\n",
       "    </tr>\n",
       "    <tr>\n",
       "      <th>366004</th>\n",
       "      <td>0.0</td>\n",
       "      <td>0.0</td>\n",
       "      <td>0.0</td>\n",
       "      <td>0.0</td>\n",
       "      <td>0.0</td>\n",
       "      <td>0.0</td>\n",
       "      <td>0.000000</td>\n",
       "      <td>0.0</td>\n",
       "      <td>0.0</td>\n",
       "      <td>0.070588</td>\n",
       "      <td>...</td>\n",
       "      <td>0.0</td>\n",
       "      <td>0.0</td>\n",
       "      <td>0.0</td>\n",
       "      <td>0.000000</td>\n",
       "      <td>0.021429</td>\n",
       "      <td>0.0</td>\n",
       "      <td>0.046296</td>\n",
       "      <td>0.014184</td>\n",
       "      <td>0.0</td>\n",
       "      <td>0.0</td>\n",
       "    </tr>\n",
       "  </tbody>\n",
       "</table>\n",
       "<p>5 rows × 64 columns</p>\n",
       "</div>"
      ],
      "text/plain": [
       "        pixel0  pixel1  pixel2  pixel3  pixel4  pixel5    pixel6  pixel7  \\\n",
       "180518     0.0     0.0     0.0     0.0     0.0     0.0  0.000000     0.0   \n",
       "126214     0.0     0.0     0.0     0.0     0.0     0.0  0.000000     0.0   \n",
       "351917     0.0     0.0     0.0     0.0     0.0     0.0  0.011905     0.0   \n",
       "312220     0.0     0.0     0.0     0.0     0.0     0.0  0.000000     0.0   \n",
       "366004     0.0     0.0     0.0     0.0     0.0     0.0  0.000000     0.0   \n",
       "\n",
       "        pixel8    pixel9  ...  pixel54  pixel55  pixel56   pixel57   pixel58  \\\n",
       "180518     0.0  0.047059  ...      0.0      0.0      0.0  0.000000  0.000000   \n",
       "126214     0.0  0.000000  ...      0.0      0.0      0.0  0.000000  0.000000   \n",
       "351917     0.0  0.000000  ...      0.0      0.0      0.0  0.011236  0.000000   \n",
       "312220     0.0  0.000000  ...      0.0      0.0      0.0  0.000000  0.064286   \n",
       "366004     0.0  0.070588  ...      0.0      0.0      0.0  0.000000  0.021429   \n",
       "\n",
       "        pixel59   pixel60   pixel61  pixel62  pixel63  \n",
       "180518      0.0  0.000000  0.000000      0.0      0.0  \n",
       "126214      0.0  0.000000  0.000000      0.0      0.0  \n",
       "351917      0.0  0.000000  0.000000      0.0      0.0  \n",
       "312220      0.0  0.000000  0.000000      0.0      0.0  \n",
       "366004      0.0  0.046296  0.014184      0.0      0.0  \n",
       "\n",
       "[5 rows x 64 columns]"
      ]
     },
     "execution_count": 25,
     "metadata": {},
     "output_type": "execute_result"
    }
   ],
   "source": [
    "# Rescaling numerical features\n",
    "from sklearn.preprocessing import MinMaxScaler\n",
    "\n",
    "minmax_scaler = MinMaxScaler()\n",
    "\n",
    "X_train_transformed = pd.DataFrame(minmax_scaler.fit_transform(X_train), \n",
    "                                    columns = minmax_scaler.get_feature_names_out(), \n",
    "                                    index = X_train.index)\n",
    "\n",
    "X_train_transformed.head()"
   ]
  },
  {
   "cell_type": "markdown",
   "id": "016ae253-2075-4b78-a2dd-de39ff8fbe72",
   "metadata": {},
   "source": [
    "#### **Note: We won't use here Standardization `(Standard Scaler)`** "
   ]
  },
  {
   "cell_type": "code",
   "execution_count": 15,
   "id": "9bdc03be-ca23-46ee-bb20-a9af9960d972",
   "metadata": {},
   "outputs": [
    {
     "data": {
      "text/html": [
       "<div>\n",
       "<style scoped>\n",
       "    .dataframe tbody tr th:only-of-type {\n",
       "        vertical-align: middle;\n",
       "    }\n",
       "\n",
       "    .dataframe tbody tr th {\n",
       "        vertical-align: top;\n",
       "    }\n",
       "\n",
       "    .dataframe thead th {\n",
       "        text-align: right;\n",
       "    }\n",
       "</style>\n",
       "<table border=\"1\" class=\"dataframe\">\n",
       "  <thead>\n",
       "    <tr style=\"text-align: right;\">\n",
       "      <th></th>\n",
       "      <th>pixel0</th>\n",
       "      <th>pixel1</th>\n",
       "      <th>pixel2</th>\n",
       "      <th>pixel3</th>\n",
       "      <th>pixel4</th>\n",
       "      <th>pixel5</th>\n",
       "      <th>pixel6</th>\n",
       "      <th>pixel7</th>\n",
       "      <th>pixel8</th>\n",
       "      <th>pixel9</th>\n",
       "      <th>...</th>\n",
       "      <th>pixel54</th>\n",
       "      <th>pixel55</th>\n",
       "      <th>pixel56</th>\n",
       "      <th>pixel57</th>\n",
       "      <th>pixel58</th>\n",
       "      <th>pixel59</th>\n",
       "      <th>pixel60</th>\n",
       "      <th>pixel61</th>\n",
       "      <th>pixel62</th>\n",
       "      <th>pixel63</th>\n",
       "    </tr>\n",
       "  </thead>\n",
       "  <tbody>\n",
       "    <tr>\n",
       "      <th>180518</th>\n",
       "      <td>0.0</td>\n",
       "      <td>0.0</td>\n",
       "      <td>0.0</td>\n",
       "      <td>0.0</td>\n",
       "      <td>0.0</td>\n",
       "      <td>0.0</td>\n",
       "      <td>0.000000</td>\n",
       "      <td>0.0</td>\n",
       "      <td>0.0</td>\n",
       "      <td>0.047059</td>\n",
       "      <td>...</td>\n",
       "      <td>0.0</td>\n",
       "      <td>0.0</td>\n",
       "      <td>0.0</td>\n",
       "      <td>0.000000</td>\n",
       "      <td>0.000000</td>\n",
       "      <td>0.0</td>\n",
       "      <td>0.000000</td>\n",
       "      <td>0.000000</td>\n",
       "      <td>0.0</td>\n",
       "      <td>0.0</td>\n",
       "    </tr>\n",
       "    <tr>\n",
       "      <th>126214</th>\n",
       "      <td>0.0</td>\n",
       "      <td>0.0</td>\n",
       "      <td>0.0</td>\n",
       "      <td>0.0</td>\n",
       "      <td>0.0</td>\n",
       "      <td>0.0</td>\n",
       "      <td>0.000000</td>\n",
       "      <td>0.0</td>\n",
       "      <td>0.0</td>\n",
       "      <td>0.000000</td>\n",
       "      <td>...</td>\n",
       "      <td>0.0</td>\n",
       "      <td>0.0</td>\n",
       "      <td>0.0</td>\n",
       "      <td>0.000000</td>\n",
       "      <td>0.000000</td>\n",
       "      <td>0.0</td>\n",
       "      <td>0.000000</td>\n",
       "      <td>0.000000</td>\n",
       "      <td>0.0</td>\n",
       "      <td>0.0</td>\n",
       "    </tr>\n",
       "    <tr>\n",
       "      <th>351917</th>\n",
       "      <td>0.0</td>\n",
       "      <td>0.0</td>\n",
       "      <td>0.0</td>\n",
       "      <td>0.0</td>\n",
       "      <td>0.0</td>\n",
       "      <td>0.0</td>\n",
       "      <td>0.011905</td>\n",
       "      <td>0.0</td>\n",
       "      <td>0.0</td>\n",
       "      <td>0.000000</td>\n",
       "      <td>...</td>\n",
       "      <td>0.0</td>\n",
       "      <td>0.0</td>\n",
       "      <td>0.0</td>\n",
       "      <td>0.011236</td>\n",
       "      <td>0.000000</td>\n",
       "      <td>0.0</td>\n",
       "      <td>0.000000</td>\n",
       "      <td>0.000000</td>\n",
       "      <td>0.0</td>\n",
       "      <td>0.0</td>\n",
       "    </tr>\n",
       "    <tr>\n",
       "      <th>312220</th>\n",
       "      <td>0.0</td>\n",
       "      <td>0.0</td>\n",
       "      <td>0.0</td>\n",
       "      <td>0.0</td>\n",
       "      <td>0.0</td>\n",
       "      <td>0.0</td>\n",
       "      <td>0.000000</td>\n",
       "      <td>0.0</td>\n",
       "      <td>0.0</td>\n",
       "      <td>0.000000</td>\n",
       "      <td>...</td>\n",
       "      <td>0.0</td>\n",
       "      <td>0.0</td>\n",
       "      <td>0.0</td>\n",
       "      <td>0.000000</td>\n",
       "      <td>0.064286</td>\n",
       "      <td>0.0</td>\n",
       "      <td>0.000000</td>\n",
       "      <td>0.000000</td>\n",
       "      <td>0.0</td>\n",
       "      <td>0.0</td>\n",
       "    </tr>\n",
       "    <tr>\n",
       "      <th>366004</th>\n",
       "      <td>0.0</td>\n",
       "      <td>0.0</td>\n",
       "      <td>0.0</td>\n",
       "      <td>0.0</td>\n",
       "      <td>0.0</td>\n",
       "      <td>0.0</td>\n",
       "      <td>0.000000</td>\n",
       "      <td>0.0</td>\n",
       "      <td>0.0</td>\n",
       "      <td>0.070588</td>\n",
       "      <td>...</td>\n",
       "      <td>0.0</td>\n",
       "      <td>0.0</td>\n",
       "      <td>0.0</td>\n",
       "      <td>0.000000</td>\n",
       "      <td>0.021429</td>\n",
       "      <td>0.0</td>\n",
       "      <td>0.046296</td>\n",
       "      <td>0.014184</td>\n",
       "      <td>0.0</td>\n",
       "      <td>0.0</td>\n",
       "    </tr>\n",
       "  </tbody>\n",
       "</table>\n",
       "<p>5 rows × 64 columns</p>\n",
       "</div>"
      ],
      "text/plain": [
       "        pixel0  pixel1  pixel2  pixel3  pixel4  pixel5    pixel6  pixel7  \\\n",
       "180518     0.0     0.0     0.0     0.0     0.0     0.0  0.000000     0.0   \n",
       "126214     0.0     0.0     0.0     0.0     0.0     0.0  0.000000     0.0   \n",
       "351917     0.0     0.0     0.0     0.0     0.0     0.0  0.011905     0.0   \n",
       "312220     0.0     0.0     0.0     0.0     0.0     0.0  0.000000     0.0   \n",
       "366004     0.0     0.0     0.0     0.0     0.0     0.0  0.000000     0.0   \n",
       "\n",
       "        pixel8    pixel9  ...  pixel54  pixel55  pixel56   pixel57   pixel58  \\\n",
       "180518     0.0  0.047059  ...      0.0      0.0      0.0  0.000000  0.000000   \n",
       "126214     0.0  0.000000  ...      0.0      0.0      0.0  0.000000  0.000000   \n",
       "351917     0.0  0.000000  ...      0.0      0.0      0.0  0.011236  0.000000   \n",
       "312220     0.0  0.000000  ...      0.0      0.0      0.0  0.000000  0.064286   \n",
       "366004     0.0  0.070588  ...      0.0      0.0      0.0  0.000000  0.021429   \n",
       "\n",
       "        pixel59   pixel60   pixel61  pixel62  pixel63  \n",
       "180518      0.0  0.000000  0.000000      0.0      0.0  \n",
       "126214      0.0  0.000000  0.000000      0.0      0.0  \n",
       "351917      0.0  0.000000  0.000000      0.0      0.0  \n",
       "312220      0.0  0.000000  0.000000      0.0      0.0  \n",
       "366004      0.0  0.046296  0.014184      0.0      0.0  \n",
       "\n",
       "[5 rows x 64 columns]"
      ]
     },
     "execution_count": 15,
     "metadata": {},
     "output_type": "execute_result"
    }
   ],
   "source": [
    "# Rescaling numerical features\n",
    "from sklearn.preprocessing import StandardScaler\n",
    "\n",
    "standard_scaler = StandardScaler()\n",
    "\n",
    "X_train_transformed = pd.DataFrame(standard_scaler.fit_transform(X_train), \n",
    "                                    columns = standard_scaler.get_feature_names_out(), \n",
    "                                    index = X_train.index)\n",
    "\n",
    "X_train_transformed.head()"
   ]
  },
  {
   "cell_type": "code",
   "execution_count": 26,
   "id": "ff1ef654-0d41-417c-9584-7e12bdcb9146",
   "metadata": {},
   "outputs": [
    {
     "data": {
      "text/html": [
       "<div>\n",
       "<style scoped>\n",
       "    .dataframe tbody tr th:only-of-type {\n",
       "        vertical-align: middle;\n",
       "    }\n",
       "\n",
       "    .dataframe tbody tr th {\n",
       "        vertical-align: top;\n",
       "    }\n",
       "\n",
       "    .dataframe thead th {\n",
       "        text-align: right;\n",
       "    }\n",
       "</style>\n",
       "<table border=\"1\" class=\"dataframe\">\n",
       "  <thead>\n",
       "    <tr style=\"text-align: right;\">\n",
       "      <th></th>\n",
       "      <th>pixel0</th>\n",
       "      <th>pixel1</th>\n",
       "      <th>pixel2</th>\n",
       "      <th>pixel3</th>\n",
       "      <th>pixel4</th>\n",
       "      <th>pixel5</th>\n",
       "      <th>pixel6</th>\n",
       "      <th>pixel7</th>\n",
       "      <th>pixel8</th>\n",
       "      <th>pixel9</th>\n",
       "      <th>...</th>\n",
       "      <th>pixel54</th>\n",
       "      <th>pixel55</th>\n",
       "      <th>pixel56</th>\n",
       "      <th>pixel57</th>\n",
       "      <th>pixel58</th>\n",
       "      <th>pixel59</th>\n",
       "      <th>pixel60</th>\n",
       "      <th>pixel61</th>\n",
       "      <th>pixel62</th>\n",
       "      <th>pixel63</th>\n",
       "    </tr>\n",
       "  </thead>\n",
       "  <tbody>\n",
       "    <tr>\n",
       "      <th>329406</th>\n",
       "      <td>0.0</td>\n",
       "      <td>0.0</td>\n",
       "      <td>0.0</td>\n",
       "      <td>0.0</td>\n",
       "      <td>0.000000</td>\n",
       "      <td>0.043478</td>\n",
       "      <td>0.011905</td>\n",
       "      <td>0.0</td>\n",
       "      <td>0.0</td>\n",
       "      <td>0.000000</td>\n",
       "      <td>...</td>\n",
       "      <td>0.000000</td>\n",
       "      <td>0.0</td>\n",
       "      <td>0.0</td>\n",
       "      <td>0.0</td>\n",
       "      <td>0.007143</td>\n",
       "      <td>0.000000</td>\n",
       "      <td>0.0</td>\n",
       "      <td>0.0</td>\n",
       "      <td>0.0</td>\n",
       "      <td>0.0</td>\n",
       "    </tr>\n",
       "    <tr>\n",
       "      <th>125157</th>\n",
       "      <td>0.0</td>\n",
       "      <td>0.0</td>\n",
       "      <td>0.0</td>\n",
       "      <td>0.0</td>\n",
       "      <td>0.000000</td>\n",
       "      <td>0.000000</td>\n",
       "      <td>0.000000</td>\n",
       "      <td>0.0</td>\n",
       "      <td>0.0</td>\n",
       "      <td>0.000000</td>\n",
       "      <td>...</td>\n",
       "      <td>0.037383</td>\n",
       "      <td>0.0</td>\n",
       "      <td>0.0</td>\n",
       "      <td>0.0</td>\n",
       "      <td>0.000000</td>\n",
       "      <td>0.000000</td>\n",
       "      <td>0.0</td>\n",
       "      <td>0.0</td>\n",
       "      <td>0.0</td>\n",
       "      <td>0.0</td>\n",
       "    </tr>\n",
       "    <tr>\n",
       "      <th>342562</th>\n",
       "      <td>0.0</td>\n",
       "      <td>0.0</td>\n",
       "      <td>0.0</td>\n",
       "      <td>0.0</td>\n",
       "      <td>0.000000</td>\n",
       "      <td>0.000000</td>\n",
       "      <td>0.000000</td>\n",
       "      <td>0.0</td>\n",
       "      <td>0.0</td>\n",
       "      <td>0.041176</td>\n",
       "      <td>...</td>\n",
       "      <td>0.000000</td>\n",
       "      <td>0.0</td>\n",
       "      <td>0.0</td>\n",
       "      <td>0.0</td>\n",
       "      <td>0.000000</td>\n",
       "      <td>0.000000</td>\n",
       "      <td>0.0</td>\n",
       "      <td>0.0</td>\n",
       "      <td>0.0</td>\n",
       "      <td>0.0</td>\n",
       "    </tr>\n",
       "    <tr>\n",
       "      <th>279503</th>\n",
       "      <td>0.0</td>\n",
       "      <td>0.0</td>\n",
       "      <td>0.0</td>\n",
       "      <td>0.0</td>\n",
       "      <td>0.142857</td>\n",
       "      <td>0.000000</td>\n",
       "      <td>0.000000</td>\n",
       "      <td>0.0</td>\n",
       "      <td>0.0</td>\n",
       "      <td>0.000000</td>\n",
       "      <td>...</td>\n",
       "      <td>0.149533</td>\n",
       "      <td>0.0</td>\n",
       "      <td>0.0</td>\n",
       "      <td>0.0</td>\n",
       "      <td>0.028571</td>\n",
       "      <td>0.010204</td>\n",
       "      <td>0.0</td>\n",
       "      <td>0.0</td>\n",
       "      <td>0.0</td>\n",
       "      <td>0.0</td>\n",
       "    </tr>\n",
       "    <tr>\n",
       "      <th>300674</th>\n",
       "      <td>0.0</td>\n",
       "      <td>0.0</td>\n",
       "      <td>0.0</td>\n",
       "      <td>0.0</td>\n",
       "      <td>0.000000</td>\n",
       "      <td>0.000000</td>\n",
       "      <td>0.000000</td>\n",
       "      <td>0.0</td>\n",
       "      <td>0.0</td>\n",
       "      <td>0.070588</td>\n",
       "      <td>...</td>\n",
       "      <td>0.000000</td>\n",
       "      <td>0.0</td>\n",
       "      <td>0.0</td>\n",
       "      <td>0.0</td>\n",
       "      <td>0.000000</td>\n",
       "      <td>0.000000</td>\n",
       "      <td>0.0</td>\n",
       "      <td>0.0</td>\n",
       "      <td>0.0</td>\n",
       "      <td>0.0</td>\n",
       "    </tr>\n",
       "  </tbody>\n",
       "</table>\n",
       "<p>5 rows × 64 columns</p>\n",
       "</div>"
      ],
      "text/plain": [
       "        pixel0  pixel1  pixel2  pixel3    pixel4    pixel5    pixel6  pixel7  \\\n",
       "329406     0.0     0.0     0.0     0.0  0.000000  0.043478  0.011905     0.0   \n",
       "125157     0.0     0.0     0.0     0.0  0.000000  0.000000  0.000000     0.0   \n",
       "342562     0.0     0.0     0.0     0.0  0.000000  0.000000  0.000000     0.0   \n",
       "279503     0.0     0.0     0.0     0.0  0.142857  0.000000  0.000000     0.0   \n",
       "300674     0.0     0.0     0.0     0.0  0.000000  0.000000  0.000000     0.0   \n",
       "\n",
       "        pixel8    pixel9  ...   pixel54  pixel55  pixel56  pixel57   pixel58  \\\n",
       "329406     0.0  0.000000  ...  0.000000      0.0      0.0      0.0  0.007143   \n",
       "125157     0.0  0.000000  ...  0.037383      0.0      0.0      0.0  0.000000   \n",
       "342562     0.0  0.041176  ...  0.000000      0.0      0.0      0.0  0.000000   \n",
       "279503     0.0  0.000000  ...  0.149533      0.0      0.0      0.0  0.028571   \n",
       "300674     0.0  0.070588  ...  0.000000      0.0      0.0      0.0  0.000000   \n",
       "\n",
       "         pixel59  pixel60  pixel61  pixel62  pixel63  \n",
       "329406  0.000000      0.0      0.0      0.0      0.0  \n",
       "125157  0.000000      0.0      0.0      0.0      0.0  \n",
       "342562  0.000000      0.0      0.0      0.0      0.0  \n",
       "279503  0.010204      0.0      0.0      0.0      0.0  \n",
       "300674  0.000000      0.0      0.0      0.0      0.0  \n",
       "\n",
       "[5 rows x 64 columns]"
      ]
     },
     "execution_count": 26,
     "metadata": {},
     "output_type": "execute_result"
    }
   ],
   "source": [
    "X_test_transformed = pd.DataFrame(minmax_scaler.transform(X_test), \n",
    "                                    columns = minmax_scaler.get_feature_names_out(), \n",
    "                                    index = X_test.index)\n",
    "\n",
    "X_test_transformed.head()"
   ]
  },
  {
   "cell_type": "markdown",
   "id": "585bc0b4-bce8-4509-80ee-6dba2d09c4a3",
   "metadata": {},
   "source": [
    "## **Step 6,8,9 - Training and Testing Phase**"
   ]
  },
  {
   "cell_type": "markdown",
   "id": "703c4d31-98b9-4752-b6f9-597206ac2484",
   "metadata": {},
   "source": [
    "### **a. Naive Bayes**"
   ]
  },
  {
   "cell_type": "code",
   "execution_count": 27,
   "id": "6643d403-5050-41ba-a4d5-25a9989c03f2",
   "metadata": {},
   "outputs": [
    {
     "name": "stdout",
     "output_type": "stream",
     "text": [
      "CPU times: total: 93.8 ms\n",
      "Wall time: 115 ms\n",
      "\n",
      "Model's Accuracy: 0.6517\n",
      "Naive Bayes Model Prediction Time: 0.01 seconds\n"
     ]
    }
   ],
   "source": [
    "import time\n",
    "from sklearn.naive_bayes import MultinomialNB\n",
    "from sklearn import metrics\n",
    "\n",
    "# Building the Model\n",
    "classifier = MultinomialNB() \n",
    "%time classifier.fit(X_train_transformed, y_train)\n",
    "\n",
    "# Measure prediction time for Naive Bayes\n",
    "start_time = time.time()\n",
    "\n",
    "# Predicting on unseen data\n",
    "y_test_pred = classifier.predict(X_test_transformed)\n",
    "\n",
    "NB_prediction_time = time.time() - start_time\n",
    "\n",
    "# Model Evaluation\n",
    "print()\n",
    "print(f\"Model's Accuracy: {metrics.accuracy_score(y_test, y_test_pred)}\")\n",
    "print(f\"Naive Bayes Model Prediction Time: {NB_prediction_time:.2f} seconds\")"
   ]
  },
  {
   "cell_type": "markdown",
   "id": "9d50bae7-83d4-4dac-8043-051dfc99de7d",
   "metadata": {},
   "source": [
    "### **b. Logistic Regression**"
   ]
  },
  {
   "cell_type": "code",
   "execution_count": 28,
   "id": "004ba299-3777-431d-9a72-49b1ebd9aca7",
   "metadata": {},
   "outputs": [
    {
     "name": "stdout",
     "output_type": "stream",
     "text": [
      "CPU times: total: 5.42 s\n",
      "Wall time: 2.48 s\n",
      "\n",
      "Model's Accuracy :0.852\n",
      "Logistic Regression Model prediction Time: 0.00 seconds\n"
     ]
    },
    {
     "name": "stderr",
     "output_type": "stream",
     "text": [
      "C:\\Users\\VARSHINA\\ANACONDA\\Lib\\site-packages\\sklearn\\linear_model\\_logistic.py:458: ConvergenceWarning: lbfgs failed to converge (status=1):\n",
      "STOP: TOTAL NO. of ITERATIONS REACHED LIMIT.\n",
      "\n",
      "Increase the number of iterations (max_iter) or scale the data as shown in:\n",
      "    https://scikit-learn.org/stable/modules/preprocessing.html\n",
      "Please also refer to the documentation for alternative solver options:\n",
      "    https://scikit-learn.org/stable/modules/linear_model.html#logistic-regression\n",
      "  n_iter_i = _check_optimize_result(\n"
     ]
    }
   ],
   "source": [
    "from sklearn.linear_model import LogisticRegression\n",
    "\n",
    "# Building the Model\n",
    "classifier = LogisticRegression()\n",
    "%time classifier.fit(X_train_transformed, y_train)\n",
    "\n",
    "# Measure prediction time for Logistic Regression\n",
    "start_time = time.time()\n",
    "\n",
    "# Predicting on unseen data\n",
    "y_test_pred = classifier.predict(X_test_transformed)\n",
    "\n",
    "LR_prediction_time = time.time() - start_time\n",
    "\n",
    "# Model Evaluation\n",
    "print()\n",
    "print(f\"Model's Accuracy :{metrics.accuracy_score(y_test, y_test_pred)}\")\n",
    "print(f\"Logistic Regression Model prediction Time: {LR_prediction_time:.2f} seconds\")"
   ]
  },
  {
   "cell_type": "markdown",
   "id": "cc2c6d5e-afb7-4418-979f-182249a159d9",
   "metadata": {},
   "source": [
    "### **c. Decision Tree**"
   ]
  },
  {
   "cell_type": "code",
   "execution_count": 29,
   "id": "315f613a-38dc-49ff-9014-f8c7e936d25e",
   "metadata": {},
   "outputs": [
    {
     "name": "stdout",
     "output_type": "stream",
     "text": [
      "CPU times: total: 781 ms\n",
      "Wall time: 1.79 s\n",
      "\n",
      "Model's Accuracy : 0.8145\n",
      "Decision Tree Model Prediction Time: 0.01 seconds\n"
     ]
    }
   ],
   "source": [
    "from sklearn.tree import DecisionTreeClassifier\n",
    "\n",
    "# Building the Model\n",
    "classifier = DecisionTreeClassifier()\n",
    "%time classifier.fit(X_train_transformed, y_train)\n",
    "\n",
    "# Measure prediction time for Decision Tree\n",
    "start_time = time.time()\n",
    "\n",
    "# Predicting on unseen data\n",
    "y_test_pred = classifier.predict(X_test_transformed)\n",
    "\n",
    "DT_prediction_time = time.time() - start_time\n",
    "\n",
    "# Model's Evaluation\n",
    "print()\n",
    "print(f\"Model's Accuracy : {metrics.accuracy_score(y_test, y_test_pred)}\")\n",
    "print(f\"Decision Tree Model Prediction Time: {DT_prediction_time:.2f} seconds\")"
   ]
  },
  {
   "cell_type": "markdown",
   "id": "060d2255-da08-481a-b764-5220e89520b6",
   "metadata": {},
   "source": [
    "### **d. K Nearest Neighbor**"
   ]
  },
  {
   "cell_type": "code",
   "execution_count": 30,
   "id": "0060c460-4912-457e-8fd6-a7ad069e0f0f",
   "metadata": {},
   "outputs": [
    {
     "name": "stdout",
     "output_type": "stream",
     "text": [
      "CPU times: total: 31.2 ms\n",
      "Wall time: 57.1 ms\n",
      "\n",
      "Model's Accuracy : 0.9368\n",
      "K Nearest Neighbor Model Prediction Time: 1.09 seconds\n"
     ]
    }
   ],
   "source": [
    "from sklearn.neighbors import KNeighborsClassifier\n",
    "\n",
    "# Building the Model\n",
    "classifier = KNeighborsClassifier()\n",
    "%time classifier.fit(X_train_transformed, y_train)\n",
    "\n",
    "# Measure prediction time for K Nearest Neighbor\n",
    "start_time = time.time()\n",
    "\n",
    "# Predicting on unseen data\n",
    "y_test_pred = classifier.predict(X_test_transformed)\n",
    "\n",
    "KNN_prediction_time = time.time() - start_time\n",
    "\n",
    "# Model's Evaluation\n",
    "print()\n",
    "print(f\"Model's Accuracy : {metrics.accuracy_score(y_test, y_test_pred)}\")\n",
    "print(f\"K Nearest Neighbor Model Prediction Time: {KNN_prediction_time:.2f} seconds\")"
   ]
  },
  {
   "cell_type": "markdown",
   "id": "15575843-9250-4a0a-9d0d-e38c5e4cc0d8",
   "metadata": {},
   "source": [
    "### **e. Random Forest**"
   ]
  },
  {
   "cell_type": "code",
   "execution_count": 31,
   "id": "36340257-f1ca-48cd-8605-5a6cd6a480b3",
   "metadata": {},
   "outputs": [
    {
     "name": "stdout",
     "output_type": "stream",
     "text": [
      "CPU times: total: 7.41 s\n",
      "Wall time: 16.3 s\n",
      "\n",
      "Model's Accuracy : 0.9316\n",
      "Random Forest Model Prediction Time: 0.34 seconds\n"
     ]
    }
   ],
   "source": [
    "from sklearn.ensemble import RandomForestClassifier\n",
    "\n",
    "# Building the Model\n",
    "classifier = RandomForestClassifier()\n",
    "%time classifier.fit(X_train_transformed, y_train)\n",
    "\n",
    "# Measure prediction time for Random Forest \n",
    "start_time = time.time()\n",
    "\n",
    "# Predicting on unseen data\n",
    "y_test_pred = classifier.predict(X_test_transformed)\n",
    "\n",
    "RF_prediction_time = time.time() - start_time\n",
    "\n",
    "# Model's Evaluation\n",
    "print()\n",
    "print(f\"Model's Accuracy : {metrics.accuracy_score(y_test, y_test_pred)}\")\n",
    "print(f\"Random Forest Model Prediction Time: {RF_prediction_time:.2f} seconds\")"
   ]
  },
  {
   "cell_type": "markdown",
   "id": "bb9fb635-39b9-4bda-ba75-7738f3423389",
   "metadata": {},
   "source": [
    "### **Visualizing Prediction Times for Different Classification Models**"
   ]
  },
  {
   "cell_type": "code",
   "execution_count": 33,
   "id": "bf379e34-b6de-4986-a9e9-f47a9fe87dec",
   "metadata": {},
   "outputs": [
    {
     "data": {
      "image/png": "[encoded data removed]",
      "text/plain": [
       "<Figure size 1000x600 with 1 Axes>"
      ]
     },
     "metadata": {},
     "output_type": "display_data"
    }
   ],
   "source": [
    "# Model names\n",
    "model_names = ['Decision Tree', 'Naive Bayes', 'Logistic Regression', 'K Nearest Neighbor', 'Random forest']\n",
    "\n",
    "# Prediction times\n",
    "prediction_times = [DT_prediction_time, NB_prediction_time, LR_prediction_time, KNN_prediction_time, RF_prediction_time]\n",
    "\n",
    "# Plotting\n",
    "plt.figure(figsize=(10, 6))\n",
    "plt.bar(model_names, prediction_times)\n",
    "plt.xlabel('Models')\n",
    "plt.ylabel('Prediction Time (seconds)')\n",
    "plt.title('Comparison of Prediction Times for Different Models')\n",
    "plt.show() "
   ]
  }
 ],
 "metadata": {
  "kernelspec": {
   "display_name": "Python 3 (ipykernel)",
   "language": "python",
   "name": "python3"
  },
  "language_info": {
   "codemirror_mode": {
    "name": "ipython",
    "version": 3
   },
   "file_extension": ".py",
   "mimetype": "text/x-python",
   "name": "python",
   "nbconvert_exporter": "python",
   "pygments_lexer": "ipython3",
   "version": "3.12.4"
  },
  "widgets": {
   "application/vnd.jupyter.widget-state+json": {
    "state": {},
    "version_major": 2,
    "version_minor": 0
   }
  }
 },
 "nbformat": 4,
 "nbformat_minor": 5
}
